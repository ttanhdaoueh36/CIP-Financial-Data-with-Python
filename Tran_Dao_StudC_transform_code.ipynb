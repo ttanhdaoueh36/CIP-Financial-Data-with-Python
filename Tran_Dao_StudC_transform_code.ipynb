{
 "cells": [
  {
   "cell_type": "markdown",
   "metadata": {},
   "source": [
    "### All cleaning and enrichment steps  as below:\n",
    "\n",
    "##### Data Transformation (Phase 1)\n",
    "\n",
    "1. Inspecting the 3 original datasets downloaded by using the Yahoo Finance API.\n",
    "\n",
    "2. Combining the 3 datasets into one main dataset that is considered as **source** data.\n",
    "\n",
    "3. Cleaning the **dirty** data that was made changes manually.\n",
    "\n",
    "4. Combine the **stage** data with the data provided by student A to make a **master** file."
   ]
  },
  {
   "cell_type": "markdown",
   "metadata": {},
   "source": [
    "##### Importing the packages and datasets"
   ]
  },
  {
   "cell_type": "code",
   "execution_count": 1,
   "metadata": {},
   "outputs": [],
   "source": [
    "# Importing the libraries\n",
    "import pandas as pd\n",
    "import matplotlib.pyplot as plt"
   ]
  },
  {
   "cell_type": "code",
   "execution_count": 2,
   "metadata": {
    "scrolled": true
   },
   "outputs": [],
   "source": [
    "# Read the orginal datasets into dataframes\n",
    "df_sp500    =pd.read_csv(\"../Tran_Dao_Data/Tran_Dao_StudC_data_sp500_src.csv\")\n",
    "df_non_sp500=pd.read_csv(\"../Tran_Dao_Data/Tran_Dao_StudC_data_non_sp500_src.csv\")\n",
    "df_spy      =pd.read_csv(\"../Tran_Dao_Data/Tran_Dao_StudC_data_spy_src.csv\")"
   ]
  },
  {
   "cell_type": "markdown",
   "metadata": {},
   "source": [
    "### 1. Inspecting the datasets"
   ]
  },
  {
   "cell_type": "markdown",
   "metadata": {},
   "source": [
    "Get an first overview about the data ... with 'head()', 'info()' and 'describe()':"
   ]
  },
  {
   "cell_type": "code",
   "execution_count": 3,
   "metadata": {},
   "outputs": [
    {
     "data": {
      "text/html": [
       "<div>\n",
       "<style scoped>\n",
       "    .dataframe tbody tr th:only-of-type {\n",
       "        vertical-align: middle;\n",
       "    }\n",
       "\n",
       "    .dataframe tbody tr th {\n",
       "        vertical-align: top;\n",
       "    }\n",
       "\n",
       "    .dataframe thead th {\n",
       "        text-align: right;\n",
       "    }\n",
       "</style>\n",
       "<table border=\"1\" class=\"dataframe\">\n",
       "  <thead>\n",
       "    <tr style=\"text-align: right;\">\n",
       "      <th></th>\n",
       "      <th>Unnamed: 0</th>\n",
       "      <th>Unnamed: 1</th>\n",
       "      <th>Date</th>\n",
       "      <th>Open</th>\n",
       "      <th>High</th>\n",
       "      <th>Low</th>\n",
       "      <th>Close</th>\n",
       "      <th>Adj Close</th>\n",
       "      <th>Volume</th>\n",
       "    </tr>\n",
       "  </thead>\n",
       "  <tbody>\n",
       "    <tr>\n",
       "      <th>0</th>\n",
       "      <td>MMM</td>\n",
       "      <td>0</td>\n",
       "      <td>2020-12-30</td>\n",
       "      <td>173.880005</td>\n",
       "      <td>174.919998</td>\n",
       "      <td>173.380005</td>\n",
       "      <td>174.110001</td>\n",
       "      <td>168.753479</td>\n",
       "      <td>1419100</td>\n",
       "    </tr>\n",
       "    <tr>\n",
       "      <th>1</th>\n",
       "      <td>MMM</td>\n",
       "      <td>1</td>\n",
       "      <td>2020-12-31</td>\n",
       "      <td>174.119995</td>\n",
       "      <td>174.869995</td>\n",
       "      <td>173.179993</td>\n",
       "      <td>174.789993</td>\n",
       "      <td>169.412537</td>\n",
       "      <td>1841300</td>\n",
       "    </tr>\n",
       "    <tr>\n",
       "      <th>2</th>\n",
       "      <td>MMM</td>\n",
       "      <td>2</td>\n",
       "      <td>2021-01-04</td>\n",
       "      <td>175.000000</td>\n",
       "      <td>176.199997</td>\n",
       "      <td>170.550003</td>\n",
       "      <td>171.869995</td>\n",
       "      <td>166.582382</td>\n",
       "      <td>2996200</td>\n",
       "    </tr>\n",
       "    <tr>\n",
       "      <th>3</th>\n",
       "      <td>MMM</td>\n",
       "      <td>3</td>\n",
       "      <td>2021-01-05</td>\n",
       "      <td>172.009995</td>\n",
       "      <td>173.250000</td>\n",
       "      <td>170.649994</td>\n",
       "      <td>171.580002</td>\n",
       "      <td>166.301315</td>\n",
       "      <td>2295300</td>\n",
       "    </tr>\n",
       "    <tr>\n",
       "      <th>4</th>\n",
       "      <td>MMM</td>\n",
       "      <td>4</td>\n",
       "      <td>2021-01-06</td>\n",
       "      <td>172.720001</td>\n",
       "      <td>175.570007</td>\n",
       "      <td>172.039993</td>\n",
       "      <td>174.190002</td>\n",
       "      <td>168.831024</td>\n",
       "      <td>3346400</td>\n",
       "    </tr>\n",
       "  </tbody>\n",
       "</table>\n",
       "</div>"
      ],
      "text/plain": [
       "  Unnamed: 0  Unnamed: 1        Date        Open        High         Low  \\\n",
       "0        MMM           0  2020-12-30  173.880005  174.919998  173.380005   \n",
       "1        MMM           1  2020-12-31  174.119995  174.869995  173.179993   \n",
       "2        MMM           2  2021-01-04  175.000000  176.199997  170.550003   \n",
       "3        MMM           3  2021-01-05  172.009995  173.250000  170.649994   \n",
       "4        MMM           4  2021-01-06  172.720001  175.570007  172.039993   \n",
       "\n",
       "        Close   Adj Close   Volume  \n",
       "0  174.110001  168.753479  1419100  \n",
       "1  174.789993  169.412537  1841300  \n",
       "2  171.869995  166.582382  2996200  \n",
       "3  171.580002  166.301315  2295300  \n",
       "4  174.190002  168.831024  3346400  "
      ]
     },
     "execution_count": 3,
     "metadata": {},
     "output_type": "execute_result"
    }
   ],
   "source": [
    "df_sp500.head()"
   ]
  },
  {
   "cell_type": "code",
   "execution_count": 4,
   "metadata": {},
   "outputs": [
    {
     "data": {
      "text/html": [
       "<div>\n",
       "<style scoped>\n",
       "    .dataframe tbody tr th:only-of-type {\n",
       "        vertical-align: middle;\n",
       "    }\n",
       "\n",
       "    .dataframe tbody tr th {\n",
       "        vertical-align: top;\n",
       "    }\n",
       "\n",
       "    .dataframe thead th {\n",
       "        text-align: right;\n",
       "    }\n",
       "</style>\n",
       "<table border=\"1\" class=\"dataframe\">\n",
       "  <thead>\n",
       "    <tr style=\"text-align: right;\">\n",
       "      <th></th>\n",
       "      <th>Unnamed: 0</th>\n",
       "      <th>Unnamed: 1</th>\n",
       "      <th>Date</th>\n",
       "      <th>Open</th>\n",
       "      <th>High</th>\n",
       "      <th>Low</th>\n",
       "      <th>Close</th>\n",
       "      <th>Adj Close</th>\n",
       "      <th>Volume</th>\n",
       "    </tr>\n",
       "  </thead>\n",
       "  <tbody>\n",
       "    <tr>\n",
       "      <th>0</th>\n",
       "      <td>LQD</td>\n",
       "      <td>0</td>\n",
       "      <td>2020-12-30</td>\n",
       "      <td>137.889999</td>\n",
       "      <td>138.110001</td>\n",
       "      <td>137.789993</td>\n",
       "      <td>138.100006</td>\n",
       "      <td>136.487366</td>\n",
       "      <td>5343100.0</td>\n",
       "    </tr>\n",
       "    <tr>\n",
       "      <th>1</th>\n",
       "      <td>LQD</td>\n",
       "      <td>1</td>\n",
       "      <td>2020-12-31</td>\n",
       "      <td>138.039993</td>\n",
       "      <td>138.220001</td>\n",
       "      <td>137.960007</td>\n",
       "      <td>138.130005</td>\n",
       "      <td>136.517029</td>\n",
       "      <td>6932300.0</td>\n",
       "    </tr>\n",
       "    <tr>\n",
       "      <th>2</th>\n",
       "      <td>LQD</td>\n",
       "      <td>2</td>\n",
       "      <td>2021-01-04</td>\n",
       "      <td>137.889999</td>\n",
       "      <td>137.889999</td>\n",
       "      <td>137.380005</td>\n",
       "      <td>137.429993</td>\n",
       "      <td>135.825195</td>\n",
       "      <td>14891400.0</td>\n",
       "    </tr>\n",
       "    <tr>\n",
       "      <th>3</th>\n",
       "      <td>LQD</td>\n",
       "      <td>3</td>\n",
       "      <td>2021-01-05</td>\n",
       "      <td>137.059998</td>\n",
       "      <td>137.059998</td>\n",
       "      <td>136.550003</td>\n",
       "      <td>136.990005</td>\n",
       "      <td>135.390350</td>\n",
       "      <td>16294400.0</td>\n",
       "    </tr>\n",
       "    <tr>\n",
       "      <th>4</th>\n",
       "      <td>LQD</td>\n",
       "      <td>4</td>\n",
       "      <td>2021-01-06</td>\n",
       "      <td>135.779999</td>\n",
       "      <td>135.979996</td>\n",
       "      <td>135.399994</td>\n",
       "      <td>135.880005</td>\n",
       "      <td>134.293289</td>\n",
       "      <td>19136500.0</td>\n",
       "    </tr>\n",
       "  </tbody>\n",
       "</table>\n",
       "</div>"
      ],
      "text/plain": [
       "  Unnamed: 0  Unnamed: 1        Date        Open        High         Low  \\\n",
       "0        LQD           0  2020-12-30  137.889999  138.110001  137.789993   \n",
       "1        LQD           1  2020-12-31  138.039993  138.220001  137.960007   \n",
       "2        LQD           2  2021-01-04  137.889999  137.889999  137.380005   \n",
       "3        LQD           3  2021-01-05  137.059998  137.059998  136.550003   \n",
       "4        LQD           4  2021-01-06  135.779999  135.979996  135.399994   \n",
       "\n",
       "        Close   Adj Close      Volume  \n",
       "0  138.100006  136.487366   5343100.0  \n",
       "1  138.130005  136.517029   6932300.0  \n",
       "2  137.429993  135.825195  14891400.0  \n",
       "3  136.990005  135.390350  16294400.0  \n",
       "4  135.880005  134.293289  19136500.0  "
      ]
     },
     "execution_count": 4,
     "metadata": {},
     "output_type": "execute_result"
    }
   ],
   "source": [
    "df_non_sp500.head()"
   ]
  },
  {
   "cell_type": "code",
   "execution_count": 5,
   "metadata": {},
   "outputs": [
    {
     "data": {
      "text/html": [
       "<div>\n",
       "<style scoped>\n",
       "    .dataframe tbody tr th:only-of-type {\n",
       "        vertical-align: middle;\n",
       "    }\n",
       "\n",
       "    .dataframe tbody tr th {\n",
       "        vertical-align: top;\n",
       "    }\n",
       "\n",
       "    .dataframe thead th {\n",
       "        text-align: right;\n",
       "    }\n",
       "</style>\n",
       "<table border=\"1\" class=\"dataframe\">\n",
       "  <thead>\n",
       "    <tr style=\"text-align: right;\">\n",
       "      <th></th>\n",
       "      <th>Date</th>\n",
       "      <th>Open</th>\n",
       "      <th>High</th>\n",
       "      <th>Low</th>\n",
       "      <th>Close</th>\n",
       "      <th>Adj Close</th>\n",
       "      <th>Volume</th>\n",
       "    </tr>\n",
       "  </thead>\n",
       "  <tbody>\n",
       "    <tr>\n",
       "      <th>0</th>\n",
       "      <td>2020-12-30</td>\n",
       "      <td>372.339996</td>\n",
       "      <td>373.100006</td>\n",
       "      <td>371.570007</td>\n",
       "      <td>371.989990</td>\n",
       "      <td>369.566559</td>\n",
       "      <td>49455300</td>\n",
       "    </tr>\n",
       "    <tr>\n",
       "      <th>1</th>\n",
       "      <td>2020-12-31</td>\n",
       "      <td>371.779999</td>\n",
       "      <td>374.660004</td>\n",
       "      <td>371.230011</td>\n",
       "      <td>373.880005</td>\n",
       "      <td>371.444244</td>\n",
       "      <td>78520700</td>\n",
       "    </tr>\n",
       "    <tr>\n",
       "      <th>2</th>\n",
       "      <td>2021-01-04</td>\n",
       "      <td>375.309998</td>\n",
       "      <td>375.450012</td>\n",
       "      <td>364.820007</td>\n",
       "      <td>368.790009</td>\n",
       "      <td>366.387390</td>\n",
       "      <td>110210800</td>\n",
       "    </tr>\n",
       "    <tr>\n",
       "      <th>3</th>\n",
       "      <td>2021-01-05</td>\n",
       "      <td>368.100006</td>\n",
       "      <td>372.500000</td>\n",
       "      <td>368.049988</td>\n",
       "      <td>371.329987</td>\n",
       "      <td>368.910828</td>\n",
       "      <td>66426200</td>\n",
       "    </tr>\n",
       "    <tr>\n",
       "      <th>4</th>\n",
       "      <td>2021-01-06</td>\n",
       "      <td>369.709991</td>\n",
       "      <td>376.980011</td>\n",
       "      <td>369.119995</td>\n",
       "      <td>373.549988</td>\n",
       "      <td>371.116394</td>\n",
       "      <td>107997700</td>\n",
       "    </tr>\n",
       "  </tbody>\n",
       "</table>\n",
       "</div>"
      ],
      "text/plain": [
       "         Date        Open        High         Low       Close   Adj Close  \\\n",
       "0  2020-12-30  372.339996  373.100006  371.570007  371.989990  369.566559   \n",
       "1  2020-12-31  371.779999  374.660004  371.230011  373.880005  371.444244   \n",
       "2  2021-01-04  375.309998  375.450012  364.820007  368.790009  366.387390   \n",
       "3  2021-01-05  368.100006  372.500000  368.049988  371.329987  368.910828   \n",
       "4  2021-01-06  369.709991  376.980011  369.119995  373.549988  371.116394   \n",
       "\n",
       "      Volume  \n",
       "0   49455300  \n",
       "1   78520700  \n",
       "2  110210800  \n",
       "3   66426200  \n",
       "4  107997700  "
      ]
     },
     "execution_count": 5,
     "metadata": {},
     "output_type": "execute_result"
    }
   ],
   "source": [
    "df_spy.head()"
   ]
  },
  {
   "cell_type": "markdown",
   "metadata": {},
   "source": [
    "Check whether the column names are the same in the different files:"
   ]
  },
  {
   "cell_type": "code",
   "execution_count": 6,
   "metadata": {},
   "outputs": [
    {
     "data": {
      "text/plain": [
       "Index(['Unnamed: 0', 'Unnamed: 1', 'Date', 'Open', 'High', 'Low', 'Close',\n",
       "       'Adj Close', 'Volume'],\n",
       "      dtype='object')"
      ]
     },
     "execution_count": 6,
     "metadata": {},
     "output_type": "execute_result"
    }
   ],
   "source": [
    "df_sp500.columns"
   ]
  },
  {
   "cell_type": "code",
   "execution_count": 7,
   "metadata": {},
   "outputs": [
    {
     "data": {
      "text/plain": [
       "Index(['Unnamed: 0', 'Unnamed: 1', 'Date', 'Open', 'High', 'Low', 'Close',\n",
       "       'Adj Close', 'Volume'],\n",
       "      dtype='object')"
      ]
     },
     "execution_count": 7,
     "metadata": {},
     "output_type": "execute_result"
    }
   ],
   "source": [
    "df_non_sp500.columns"
   ]
  },
  {
   "cell_type": "code",
   "execution_count": 8,
   "metadata": {},
   "outputs": [
    {
     "data": {
      "text/plain": [
       "Index(['Date', 'Open', 'High', 'Low', 'Close', 'Adj Close', 'Volume'], dtype='object')"
      ]
     },
     "execution_count": 8,
     "metadata": {},
     "output_type": "execute_result"
    }
   ],
   "source": [
    "df_spy.columns"
   ]
  },
  {
   "cell_type": "markdown",
   "metadata": {},
   "source": [
    "In order to concatenate the 3 dataframes together, we have to make sure that they have the same structures , there are some steps need to be done:\n",
    "- Rename column \"Unnamed: 0\" into \"Ticker\" in \"df_sp500\" \n",
    "- Drop column \"Unnamed: 1\" in \"df_sp500\"\n",
    "\n",
    "\n",
    "- Rename column \"Unnamed: 0\" into \"Ticker\" in \"df_non_sp500\" \n",
    "- Drop column \"Unnamed: 1\" in \"df_non_sp500\"\n",
    "\n",
    "\n",
    "- Creat a new column named \"Ticker\" in \"df_spy\" with values \"SPY\" (because all data records are about SPY)"
   ]
  },
  {
   "cell_type": "code",
   "execution_count": 9,
   "metadata": {},
   "outputs": [],
   "source": [
    "# Rename column \"Unnamed: 0\" into \"Ticker\" in \"df_sp500\" \n",
    "df_sp500.rename(columns = {\"Unnamed: 0\":\"Ticker\"}, inplace = True)"
   ]
  },
  {
   "cell_type": "code",
   "execution_count": 10,
   "metadata": {},
   "outputs": [],
   "source": [
    "# Delete the unnecessary columns\n",
    "del df_sp500[\"Unnamed: 1\"]"
   ]
  },
  {
   "cell_type": "code",
   "execution_count": 11,
   "metadata": {},
   "outputs": [
    {
     "name": "stdout",
     "output_type": "stream",
     "text": [
      "<class 'pandas.core.frame.DataFrame'>\n",
      "RangeIndex: 106462 entries, 0 to 106461\n",
      "Data columns (total 8 columns):\n",
      " #   Column     Non-Null Count   Dtype  \n",
      "---  ------     --------------   -----  \n",
      " 0   Ticker     106462 non-null  object \n",
      " 1   Date       106462 non-null  object \n",
      " 2   Open       106462 non-null  float64\n",
      " 3   High       106462 non-null  float64\n",
      " 4   Low        106462 non-null  float64\n",
      " 5   Close      106462 non-null  float64\n",
      " 6   Adj Close  106462 non-null  float64\n",
      " 7   Volume     106462 non-null  int64  \n",
      "dtypes: float64(5), int64(1), object(2)\n",
      "memory usage: 6.5+ MB\n"
     ]
    }
   ],
   "source": [
    "df_sp500.info()"
   ]
  },
  {
   "cell_type": "code",
   "execution_count": 12,
   "metadata": {},
   "outputs": [],
   "source": [
    "# Rename column \"Unnamed: 0\" into \"Ticker\" in \"df_non_sp500\" \n",
    "df_non_sp500.rename(columns = {\"Unnamed: 0\":\"Ticker\"}, inplace = True)"
   ]
  },
  {
   "cell_type": "code",
   "execution_count": 13,
   "metadata": {},
   "outputs": [],
   "source": [
    "# Delete the unnecessary columns\n",
    "del df_non_sp500[\"Unnamed: 1\"]"
   ]
  },
  {
   "cell_type": "code",
   "execution_count": 14,
   "metadata": {},
   "outputs": [
    {
     "data": {
      "text/html": [
       "<div>\n",
       "<style scoped>\n",
       "    .dataframe tbody tr th:only-of-type {\n",
       "        vertical-align: middle;\n",
       "    }\n",
       "\n",
       "    .dataframe tbody tr th {\n",
       "        vertical-align: top;\n",
       "    }\n",
       "\n",
       "    .dataframe thead th {\n",
       "        text-align: right;\n",
       "    }\n",
       "</style>\n",
       "<table border=\"1\" class=\"dataframe\">\n",
       "  <thead>\n",
       "    <tr style=\"text-align: right;\">\n",
       "      <th></th>\n",
       "      <th>Ticker</th>\n",
       "      <th>Date</th>\n",
       "      <th>Open</th>\n",
       "      <th>High</th>\n",
       "      <th>Low</th>\n",
       "      <th>Close</th>\n",
       "      <th>Adj Close</th>\n",
       "      <th>Volume</th>\n",
       "    </tr>\n",
       "  </thead>\n",
       "  <tbody>\n",
       "    <tr>\n",
       "      <th>40767</th>\n",
       "      <td>PANW</td>\n",
       "      <td>2021-01-13</td>\n",
       "      <td>371.799988</td>\n",
       "      <td>372.450012</td>\n",
       "      <td>362.339996</td>\n",
       "      <td>365.799988</td>\n",
       "      <td>365.799988</td>\n",
       "      <td>1244500.0</td>\n",
       "    </tr>\n",
       "    <tr>\n",
       "      <th>71949</th>\n",
       "      <td>DRIV</td>\n",
       "      <td>2021-01-22</td>\n",
       "      <td>27.525000</td>\n",
       "      <td>27.820000</td>\n",
       "      <td>27.414000</td>\n",
       "      <td>27.760000</td>\n",
       "      <td>27.704048</td>\n",
       "      <td>2216900.0</td>\n",
       "    </tr>\n",
       "    <tr>\n",
       "      <th>19116</th>\n",
       "      <td>LNG</td>\n",
       "      <td>2021-06-16</td>\n",
       "      <td>87.769997</td>\n",
       "      <td>88.650002</td>\n",
       "      <td>86.919998</td>\n",
       "      <td>88.610001</td>\n",
       "      <td>88.332413</td>\n",
       "      <td>1209600.0</td>\n",
       "    </tr>\n",
       "  </tbody>\n",
       "</table>\n",
       "</div>"
      ],
      "text/plain": [
       "      Ticker        Date        Open        High         Low       Close  \\\n",
       "40767   PANW  2021-01-13  371.799988  372.450012  362.339996  365.799988   \n",
       "71949   DRIV  2021-01-22   27.525000   27.820000   27.414000   27.760000   \n",
       "19116    LNG  2021-06-16   87.769997   88.650002   86.919998   88.610001   \n",
       "\n",
       "        Adj Close     Volume  \n",
       "40767  365.799988  1244500.0  \n",
       "71949   27.704048  2216900.0  \n",
       "19116   88.332413  1209600.0  "
      ]
     },
     "execution_count": 14,
     "metadata": {},
     "output_type": "execute_result"
    }
   ],
   "source": [
    "df_non_sp500.sample(3)"
   ]
  },
  {
   "cell_type": "code",
   "execution_count": 15,
   "metadata": {},
   "outputs": [
    {
     "data": {
      "text/html": [
       "<div>\n",
       "<style scoped>\n",
       "    .dataframe tbody tr th:only-of-type {\n",
       "        vertical-align: middle;\n",
       "    }\n",
       "\n",
       "    .dataframe tbody tr th {\n",
       "        vertical-align: top;\n",
       "    }\n",
       "\n",
       "    .dataframe thead th {\n",
       "        text-align: right;\n",
       "    }\n",
       "</style>\n",
       "<table border=\"1\" class=\"dataframe\">\n",
       "  <thead>\n",
       "    <tr style=\"text-align: right;\">\n",
       "      <th></th>\n",
       "      <th>Date</th>\n",
       "      <th>Open</th>\n",
       "      <th>High</th>\n",
       "      <th>Low</th>\n",
       "      <th>Close</th>\n",
       "      <th>Adj Close</th>\n",
       "      <th>Volume</th>\n",
       "      <th>Ticker</th>\n",
       "    </tr>\n",
       "  </thead>\n",
       "  <tbody>\n",
       "    <tr>\n",
       "      <th>99</th>\n",
       "      <td>2021-05-24</td>\n",
       "      <td>417.339996</td>\n",
       "      <td>420.320007</td>\n",
       "      <td>417.079987</td>\n",
       "      <td>419.170013</td>\n",
       "      <td>417.803131</td>\n",
       "      <td>51376700</td>\n",
       "      <td>SPY</td>\n",
       "    </tr>\n",
       "    <tr>\n",
       "      <th>69</th>\n",
       "      <td>2021-04-12</td>\n",
       "      <td>410.850006</td>\n",
       "      <td>411.929993</td>\n",
       "      <td>410.200012</td>\n",
       "      <td>411.640015</td>\n",
       "      <td>410.297699</td>\n",
       "      <td>56704900</td>\n",
       "      <td>SPY</td>\n",
       "    </tr>\n",
       "    <tr>\n",
       "      <th>210</th>\n",
       "      <td>2021-10-29</td>\n",
       "      <td>455.869995</td>\n",
       "      <td>459.559998</td>\n",
       "      <td>455.559998</td>\n",
       "      <td>459.250000</td>\n",
       "      <td>459.250000</td>\n",
       "      <td>70108200</td>\n",
       "      <td>SPY</td>\n",
       "    </tr>\n",
       "  </tbody>\n",
       "</table>\n",
       "</div>"
      ],
      "text/plain": [
       "           Date        Open        High         Low       Close   Adj Close  \\\n",
       "99   2021-05-24  417.339996  420.320007  417.079987  419.170013  417.803131   \n",
       "69   2021-04-12  410.850006  411.929993  410.200012  411.640015  410.297699   \n",
       "210  2021-10-29  455.869995  459.559998  455.559998  459.250000  459.250000   \n",
       "\n",
       "       Volume Ticker  \n",
       "99   51376700    SPY  \n",
       "69   56704900    SPY  \n",
       "210  70108200    SPY  "
      ]
     },
     "execution_count": 15,
     "metadata": {},
     "output_type": "execute_result"
    }
   ],
   "source": [
    "# Create a new column name \"Ticker\" in \"df_spy\"\n",
    "df_spy['Ticker'] = 'SPY'\n",
    "df_spy.sample(3)"
   ]
  },
  {
   "cell_type": "code",
   "execution_count": 16,
   "metadata": {},
   "outputs": [
    {
     "data": {
      "text/html": [
       "<div>\n",
       "<style scoped>\n",
       "    .dataframe tbody tr th:only-of-type {\n",
       "        vertical-align: middle;\n",
       "    }\n",
       "\n",
       "    .dataframe tbody tr th {\n",
       "        vertical-align: top;\n",
       "    }\n",
       "\n",
       "    .dataframe thead th {\n",
       "        text-align: right;\n",
       "    }\n",
       "</style>\n",
       "<table border=\"1\" class=\"dataframe\">\n",
       "  <thead>\n",
       "    <tr style=\"text-align: right;\">\n",
       "      <th></th>\n",
       "      <th>Ticker</th>\n",
       "      <th>Date</th>\n",
       "      <th>Open</th>\n",
       "      <th>High</th>\n",
       "      <th>Low</th>\n",
       "      <th>Close</th>\n",
       "      <th>Adj Close</th>\n",
       "      <th>Volume</th>\n",
       "    </tr>\n",
       "  </thead>\n",
       "  <tbody>\n",
       "    <tr>\n",
       "      <th>152</th>\n",
       "      <td>SPY</td>\n",
       "      <td>2021-08-09</td>\n",
       "      <td>442.459991</td>\n",
       "      <td>442.799988</td>\n",
       "      <td>441.309998</td>\n",
       "      <td>442.130005</td>\n",
       "      <td>442.130005</td>\n",
       "      <td>41222600</td>\n",
       "    </tr>\n",
       "    <tr>\n",
       "      <th>35</th>\n",
       "      <td>SPY</td>\n",
       "      <td>2021-02-22</td>\n",
       "      <td>387.059998</td>\n",
       "      <td>389.619995</td>\n",
       "      <td>386.739990</td>\n",
       "      <td>387.029999</td>\n",
       "      <td>384.508545</td>\n",
       "      <td>67414200</td>\n",
       "    </tr>\n",
       "    <tr>\n",
       "      <th>191</th>\n",
       "      <td>SPY</td>\n",
       "      <td>2021-10-04</td>\n",
       "      <td>433.000000</td>\n",
       "      <td>433.959991</td>\n",
       "      <td>426.359985</td>\n",
       "      <td>428.640015</td>\n",
       "      <td>428.640015</td>\n",
       "      <td>128570000</td>\n",
       "    </tr>\n",
       "  </tbody>\n",
       "</table>\n",
       "</div>"
      ],
      "text/plain": [
       "    Ticker        Date        Open        High         Low       Close  \\\n",
       "152    SPY  2021-08-09  442.459991  442.799988  441.309998  442.130005   \n",
       "35     SPY  2021-02-22  387.059998  389.619995  386.739990  387.029999   \n",
       "191    SPY  2021-10-04  433.000000  433.959991  426.359985  428.640015   \n",
       "\n",
       "      Adj Close     Volume  \n",
       "152  442.130005   41222600  \n",
       "35   384.508545   67414200  \n",
       "191  428.640015  128570000  "
      ]
     },
     "execution_count": 16,
     "metadata": {},
     "output_type": "execute_result"
    }
   ],
   "source": [
    "# Rearrange the order of column names in \"df_spy\" as the same order of column names in 2 other dataframes\n",
    "df_spy = df_spy.reindex(columns=['Ticker','Date', 'Open', 'High', 'Low', 'Close', 'Adj Close', 'Volume'])\n",
    "df_spy.sample(3)"
   ]
  },
  {
   "cell_type": "code",
   "execution_count": 17,
   "metadata": {},
   "outputs": [
    {
     "data": {
      "text/plain": [
       "Index(['Ticker', 'Date', 'Open', 'High', 'Low', 'Close', 'Adj Close',\n",
       "       'Volume'],\n",
       "      dtype='object')"
      ]
     },
     "execution_count": 17,
     "metadata": {},
     "output_type": "execute_result"
    }
   ],
   "source": [
    "df_spy.columns"
   ]
  },
  {
   "cell_type": "code",
   "execution_count": 18,
   "metadata": {},
   "outputs": [
    {
     "data": {
      "text/plain": [
       "Index(['Ticker', 'Date', 'Open', 'High', 'Low', 'Close', 'Adj Close',\n",
       "       'Volume'],\n",
       "      dtype='object')"
      ]
     },
     "execution_count": 18,
     "metadata": {},
     "output_type": "execute_result"
    }
   ],
   "source": [
    "df_sp500.columns"
   ]
  },
  {
   "cell_type": "code",
   "execution_count": 19,
   "metadata": {},
   "outputs": [
    {
     "data": {
      "text/plain": [
       "Index(['Ticker', 'Date', 'Open', 'High', 'Low', 'Close', 'Adj Close',\n",
       "       'Volume'],\n",
       "      dtype='object')"
      ]
     },
     "execution_count": 19,
     "metadata": {},
     "output_type": "execute_result"
    }
   ],
   "source": [
    "df_non_sp500.columns"
   ]
  },
  {
   "cell_type": "code",
   "execution_count": 20,
   "metadata": {
    "scrolled": true
   },
   "outputs": [
    {
     "name": "stdout",
     "output_type": "stream",
     "text": [
      "<class 'pandas.core.frame.DataFrame'>\n",
      "RangeIndex: 106462 entries, 0 to 106461\n",
      "Data columns (total 8 columns):\n",
      " #   Column     Non-Null Count   Dtype  \n",
      "---  ------     --------------   -----  \n",
      " 0   Ticker     106462 non-null  object \n",
      " 1   Date       106462 non-null  object \n",
      " 2   Open       106462 non-null  float64\n",
      " 3   High       106462 non-null  float64\n",
      " 4   Low        106462 non-null  float64\n",
      " 5   Close      106462 non-null  float64\n",
      " 6   Adj Close  106462 non-null  float64\n",
      " 7   Volume     106462 non-null  int64  \n",
      "dtypes: float64(5), int64(1), object(2)\n",
      "memory usage: 6.5+ MB\n"
     ]
    }
   ],
   "source": [
    "df_sp500.info() "
   ]
  },
  {
   "cell_type": "code",
   "execution_count": 21,
   "metadata": {},
   "outputs": [
    {
     "name": "stdout",
     "output_type": "stream",
     "text": [
      "<class 'pandas.core.frame.DataFrame'>\n",
      "RangeIndex: 98749 entries, 0 to 98748\n",
      "Data columns (total 8 columns):\n",
      " #   Column     Non-Null Count  Dtype  \n",
      "---  ------     --------------  -----  \n",
      " 0   Ticker     98749 non-null  object \n",
      " 1   Date       98749 non-null  object \n",
      " 2   Open       98749 non-null  float64\n",
      " 3   High       98749 non-null  float64\n",
      " 4   Low        98749 non-null  float64\n",
      " 5   Close      98749 non-null  float64\n",
      " 6   Adj Close  98749 non-null  float64\n",
      " 7   Volume     98749 non-null  float64\n",
      "dtypes: float64(6), object(2)\n",
      "memory usage: 6.0+ MB\n"
     ]
    }
   ],
   "source": [
    "df_non_sp500.info()"
   ]
  },
  {
   "cell_type": "code",
   "execution_count": 22,
   "metadata": {},
   "outputs": [
    {
     "data": {
      "text/plain": [
       "Ticker        object\n",
       "Date          object\n",
       "Open         float64\n",
       "High         float64\n",
       "Low          float64\n",
       "Close        float64\n",
       "Adj Close    float64\n",
       "Volume         int64\n",
       "dtype: object"
      ]
     },
     "execution_count": 22,
     "metadata": {},
     "output_type": "execute_result"
    }
   ],
   "source": [
    "# The values of \"Volume\" should be integers in \"df_non_sp500\"\n",
    "# Convert the values into integers\n",
    "df_non_sp500['Volume']=df_non_sp500['Volume'].astype('int64')\n",
    "df_non_sp500.dtypes"
   ]
  },
  {
   "cell_type": "code",
   "execution_count": 23,
   "metadata": {},
   "outputs": [
    {
     "name": "stdout",
     "output_type": "stream",
     "text": [
      "<class 'pandas.core.frame.DataFrame'>\n",
      "RangeIndex: 211 entries, 0 to 210\n",
      "Data columns (total 8 columns):\n",
      " #   Column     Non-Null Count  Dtype  \n",
      "---  ------     --------------  -----  \n",
      " 0   Ticker     211 non-null    object \n",
      " 1   Date       211 non-null    object \n",
      " 2   Open       211 non-null    float64\n",
      " 3   High       211 non-null    float64\n",
      " 4   Low        211 non-null    float64\n",
      " 5   Close      211 non-null    float64\n",
      " 6   Adj Close  211 non-null    float64\n",
      " 7   Volume     211 non-null    int64  \n",
      "dtypes: float64(5), int64(1), object(2)\n",
      "memory usage: 13.3+ KB\n"
     ]
    }
   ],
   "source": [
    "df_spy.info()"
   ]
  },
  {
   "cell_type": "code",
   "execution_count": 24,
   "metadata": {},
   "outputs": [
    {
     "data": {
      "text/html": [
       "<div>\n",
       "<style scoped>\n",
       "    .dataframe tbody tr th:only-of-type {\n",
       "        vertical-align: middle;\n",
       "    }\n",
       "\n",
       "    .dataframe tbody tr th {\n",
       "        vertical-align: top;\n",
       "    }\n",
       "\n",
       "    .dataframe thead th {\n",
       "        text-align: right;\n",
       "    }\n",
       "</style>\n",
       "<table border=\"1\" class=\"dataframe\">\n",
       "  <thead>\n",
       "    <tr style=\"text-align: right;\">\n",
       "      <th></th>\n",
       "      <th>Open</th>\n",
       "      <th>High</th>\n",
       "      <th>Low</th>\n",
       "      <th>Close</th>\n",
       "      <th>Adj Close</th>\n",
       "      <th>Volume</th>\n",
       "    </tr>\n",
       "  </thead>\n",
       "  <tbody>\n",
       "    <tr>\n",
       "      <th>count</th>\n",
       "      <td>106462.000000</td>\n",
       "      <td>106462.000000</td>\n",
       "      <td>106462.000000</td>\n",
       "      <td>106462.000000</td>\n",
       "      <td>106462.000000</td>\n",
       "      <td>1.064620e+05</td>\n",
       "    </tr>\n",
       "    <tr>\n",
       "      <th>mean</th>\n",
       "      <td>189.058449</td>\n",
       "      <td>191.154642</td>\n",
       "      <td>186.958065</td>\n",
       "      <td>189.104108</td>\n",
       "      <td>188.237129</td>\n",
       "      <td>4.350013e+06</td>\n",
       "    </tr>\n",
       "    <tr>\n",
       "      <th>std</th>\n",
       "      <td>346.640597</td>\n",
       "      <td>350.391302</td>\n",
       "      <td>342.971231</td>\n",
       "      <td>346.789968</td>\n",
       "      <td>346.778514</td>\n",
       "      <td>9.002667e+06</td>\n",
       "    </tr>\n",
       "    <tr>\n",
       "      <th>min</th>\n",
       "      <td>6.580000</td>\n",
       "      <td>6.780000</td>\n",
       "      <td>6.550000</td>\n",
       "      <td>6.670000</td>\n",
       "      <td>6.573964</td>\n",
       "      <td>4.300000e+03</td>\n",
       "    </tr>\n",
       "    <tr>\n",
       "      <th>25%</th>\n",
       "      <td>59.099998</td>\n",
       "      <td>59.790001</td>\n",
       "      <td>58.461476</td>\n",
       "      <td>59.139999</td>\n",
       "      <td>58.340308</td>\n",
       "      <td>8.702000e+05</td>\n",
       "    </tr>\n",
       "    <tr>\n",
       "      <th>50%</th>\n",
       "      <td>112.215000</td>\n",
       "      <td>113.529999</td>\n",
       "      <td>110.970001</td>\n",
       "      <td>112.209999</td>\n",
       "      <td>111.296246</td>\n",
       "      <td>1.812500e+06</td>\n",
       "    </tr>\n",
       "    <tr>\n",
       "      <th>75%</th>\n",
       "      <td>205.750000</td>\n",
       "      <td>208.009995</td>\n",
       "      <td>203.597504</td>\n",
       "      <td>205.860001</td>\n",
       "      <td>204.669937</td>\n",
       "      <td>4.141575e+06</td>\n",
       "    </tr>\n",
       "    <tr>\n",
       "      <th>max</th>\n",
       "      <td>5320.000000</td>\n",
       "      <td>5332.080078</td>\n",
       "      <td>5242.089844</td>\n",
       "      <td>5313.569824</td>\n",
       "      <td>5313.569824</td>\n",
       "      <td>3.196076e+08</td>\n",
       "    </tr>\n",
       "  </tbody>\n",
       "</table>\n",
       "</div>"
      ],
      "text/plain": [
       "                Open           High            Low          Close  \\\n",
       "count  106462.000000  106462.000000  106462.000000  106462.000000   \n",
       "mean      189.058449     191.154642     186.958065     189.104108   \n",
       "std       346.640597     350.391302     342.971231     346.789968   \n",
       "min         6.580000       6.780000       6.550000       6.670000   \n",
       "25%        59.099998      59.790001      58.461476      59.139999   \n",
       "50%       112.215000     113.529999     110.970001     112.209999   \n",
       "75%       205.750000     208.009995     203.597504     205.860001   \n",
       "max      5320.000000    5332.080078    5242.089844    5313.569824   \n",
       "\n",
       "           Adj Close        Volume  \n",
       "count  106462.000000  1.064620e+05  \n",
       "mean      188.237129  4.350013e+06  \n",
       "std       346.778514  9.002667e+06  \n",
       "min         6.573964  4.300000e+03  \n",
       "25%        58.340308  8.702000e+05  \n",
       "50%       111.296246  1.812500e+06  \n",
       "75%       204.669937  4.141575e+06  \n",
       "max      5313.569824  3.196076e+08  "
      ]
     },
     "execution_count": 24,
     "metadata": {},
     "output_type": "execute_result"
    }
   ],
   "source": [
    "df_sp500.describe()"
   ]
  },
  {
   "cell_type": "code",
   "execution_count": 25,
   "metadata": {},
   "outputs": [
    {
     "data": {
      "text/html": [
       "<div>\n",
       "<style scoped>\n",
       "    .dataframe tbody tr th:only-of-type {\n",
       "        vertical-align: middle;\n",
       "    }\n",
       "\n",
       "    .dataframe tbody tr th {\n",
       "        vertical-align: top;\n",
       "    }\n",
       "\n",
       "    .dataframe thead th {\n",
       "        text-align: right;\n",
       "    }\n",
       "</style>\n",
       "<table border=\"1\" class=\"dataframe\">\n",
       "  <thead>\n",
       "    <tr style=\"text-align: right;\">\n",
       "      <th></th>\n",
       "      <th>Open</th>\n",
       "      <th>High</th>\n",
       "      <th>Low</th>\n",
       "      <th>Close</th>\n",
       "      <th>Adj Close</th>\n",
       "      <th>Volume</th>\n",
       "    </tr>\n",
       "  </thead>\n",
       "  <tbody>\n",
       "    <tr>\n",
       "      <th>count</th>\n",
       "      <td>98749.000000</td>\n",
       "      <td>98749.000000</td>\n",
       "      <td>98749.000000</td>\n",
       "      <td>98749.000000</td>\n",
       "      <td>98749.000000</td>\n",
       "      <td>9.874900e+04</td>\n",
       "    </tr>\n",
       "    <tr>\n",
       "      <th>mean</th>\n",
       "      <td>81.908338</td>\n",
       "      <td>83.444529</td>\n",
       "      <td>80.282701</td>\n",
       "      <td>81.860972</td>\n",
       "      <td>81.631398</td>\n",
       "      <td>5.202152e+06</td>\n",
       "    </tr>\n",
       "    <tr>\n",
       "      <th>std</th>\n",
       "      <td>137.261660</td>\n",
       "      <td>139.585246</td>\n",
       "      <td>134.636758</td>\n",
       "      <td>137.119931</td>\n",
       "      <td>137.101489</td>\n",
       "      <td>1.792084e+07</td>\n",
       "    </tr>\n",
       "    <tr>\n",
       "      <th>min</th>\n",
       "      <td>0.340000</td>\n",
       "      <td>0.360000</td>\n",
       "      <td>0.330000</td>\n",
       "      <td>0.340000</td>\n",
       "      <td>0.340000</td>\n",
       "      <td>0.000000e+00</td>\n",
       "    </tr>\n",
       "    <tr>\n",
       "      <th>25%</th>\n",
       "      <td>20.120001</td>\n",
       "      <td>20.629999</td>\n",
       "      <td>19.600000</td>\n",
       "      <td>20.100000</td>\n",
       "      <td>19.969999</td>\n",
       "      <td>5.826000e+05</td>\n",
       "    </tr>\n",
       "    <tr>\n",
       "      <th>50%</th>\n",
       "      <td>45.520000</td>\n",
       "      <td>46.270000</td>\n",
       "      <td>44.610001</td>\n",
       "      <td>45.509998</td>\n",
       "      <td>45.299999</td>\n",
       "      <td>1.493400e+06</td>\n",
       "    </tr>\n",
       "    <tr>\n",
       "      <th>75%</th>\n",
       "      <td>89.110001</td>\n",
       "      <td>90.739998</td>\n",
       "      <td>87.500000</td>\n",
       "      <td>89.110001</td>\n",
       "      <td>88.870003</td>\n",
       "      <td>4.186600e+06</td>\n",
       "    </tr>\n",
       "    <tr>\n",
       "      <th>max</th>\n",
       "      <td>2020.000000</td>\n",
       "      <td>2020.000000</td>\n",
       "      <td>1929.520020</td>\n",
       "      <td>1984.339966</td>\n",
       "      <td>1984.339966</td>\n",
       "      <td>1.222342e+09</td>\n",
       "    </tr>\n",
       "  </tbody>\n",
       "</table>\n",
       "</div>"
      ],
      "text/plain": [
       "               Open          High           Low         Close     Adj Close  \\\n",
       "count  98749.000000  98749.000000  98749.000000  98749.000000  98749.000000   \n",
       "mean      81.908338     83.444529     80.282701     81.860972     81.631398   \n",
       "std      137.261660    139.585246    134.636758    137.119931    137.101489   \n",
       "min        0.340000      0.360000      0.330000      0.340000      0.340000   \n",
       "25%       20.120001     20.629999     19.600000     20.100000     19.969999   \n",
       "50%       45.520000     46.270000     44.610001     45.509998     45.299999   \n",
       "75%       89.110001     90.739998     87.500000     89.110001     88.870003   \n",
       "max     2020.000000   2020.000000   1929.520020   1984.339966   1984.339966   \n",
       "\n",
       "             Volume  \n",
       "count  9.874900e+04  \n",
       "mean   5.202152e+06  \n",
       "std    1.792084e+07  \n",
       "min    0.000000e+00  \n",
       "25%    5.826000e+05  \n",
       "50%    1.493400e+06  \n",
       "75%    4.186600e+06  \n",
       "max    1.222342e+09  "
      ]
     },
     "execution_count": 25,
     "metadata": {},
     "output_type": "execute_result"
    }
   ],
   "source": [
    "df_non_sp500.describe() "
   ]
  },
  {
   "cell_type": "code",
   "execution_count": 26,
   "metadata": {},
   "outputs": [
    {
     "data": {
      "text/html": [
       "<div>\n",
       "<style scoped>\n",
       "    .dataframe tbody tr th:only-of-type {\n",
       "        vertical-align: middle;\n",
       "    }\n",
       "\n",
       "    .dataframe tbody tr th {\n",
       "        vertical-align: top;\n",
       "    }\n",
       "\n",
       "    .dataframe thead th {\n",
       "        text-align: right;\n",
       "    }\n",
       "</style>\n",
       "<table border=\"1\" class=\"dataframe\">\n",
       "  <thead>\n",
       "    <tr style=\"text-align: right;\">\n",
       "      <th></th>\n",
       "      <th>Open</th>\n",
       "      <th>High</th>\n",
       "      <th>Low</th>\n",
       "      <th>Close</th>\n",
       "      <th>Adj Close</th>\n",
       "      <th>Volume</th>\n",
       "    </tr>\n",
       "  </thead>\n",
       "  <tbody>\n",
       "    <tr>\n",
       "      <th>count</th>\n",
       "      <td>211.000000</td>\n",
       "      <td>211.000000</td>\n",
       "      <td>211.000000</td>\n",
       "      <td>211.000000</td>\n",
       "      <td>211.000000</td>\n",
       "      <td>2.110000e+02</td>\n",
       "    </tr>\n",
       "    <tr>\n",
       "      <th>mean</th>\n",
       "      <td>417.516967</td>\n",
       "      <td>419.407488</td>\n",
       "      <td>415.489147</td>\n",
       "      <td>417.709004</td>\n",
       "      <td>416.666693</td>\n",
       "      <td>7.327364e+07</td>\n",
       "    </tr>\n",
       "    <tr>\n",
       "      <th>std</th>\n",
       "      <td>24.553198</td>\n",
       "      <td>24.284630</td>\n",
       "      <td>24.944039</td>\n",
       "      <td>24.616790</td>\n",
       "      <td>25.571549</td>\n",
       "      <td>2.786448e+07</td>\n",
       "    </tr>\n",
       "    <tr>\n",
       "      <th>min</th>\n",
       "      <td>368.100006</td>\n",
       "      <td>372.500000</td>\n",
       "      <td>364.820007</td>\n",
       "      <td>368.790009</td>\n",
       "      <td>366.387390</td>\n",
       "      <td>3.555110e+07</td>\n",
       "    </tr>\n",
       "    <tr>\n",
       "      <th>25%</th>\n",
       "      <td>392.095001</td>\n",
       "      <td>394.190002</td>\n",
       "      <td>390.520004</td>\n",
       "      <td>392.615005</td>\n",
       "      <td>390.524124</td>\n",
       "      <td>5.223650e+07</td>\n",
       "    </tr>\n",
       "    <tr>\n",
       "      <th>50%</th>\n",
       "      <td>420.369995</td>\n",
       "      <td>421.250000</td>\n",
       "      <td>418.989990</td>\n",
       "      <td>420.059998</td>\n",
       "      <td>418.690216</td>\n",
       "      <td>6.523330e+07</td>\n",
       "    </tr>\n",
       "    <tr>\n",
       "      <th>75%</th>\n",
       "      <td>438.759995</td>\n",
       "      <td>440.299988</td>\n",
       "      <td>436.990005</td>\n",
       "      <td>438.744995</td>\n",
       "      <td>438.744995</td>\n",
       "      <td>8.588600e+07</td>\n",
       "    </tr>\n",
       "    <tr>\n",
       "      <th>max</th>\n",
       "      <td>457.200012</td>\n",
       "      <td>459.559998</td>\n",
       "      <td>455.559998</td>\n",
       "      <td>459.250000</td>\n",
       "      <td>459.250000</td>\n",
       "      <td>1.834330e+08</td>\n",
       "    </tr>\n",
       "  </tbody>\n",
       "</table>\n",
       "</div>"
      ],
      "text/plain": [
       "             Open        High         Low       Close   Adj Close  \\\n",
       "count  211.000000  211.000000  211.000000  211.000000  211.000000   \n",
       "mean   417.516967  419.407488  415.489147  417.709004  416.666693   \n",
       "std     24.553198   24.284630   24.944039   24.616790   25.571549   \n",
       "min    368.100006  372.500000  364.820007  368.790009  366.387390   \n",
       "25%    392.095001  394.190002  390.520004  392.615005  390.524124   \n",
       "50%    420.369995  421.250000  418.989990  420.059998  418.690216   \n",
       "75%    438.759995  440.299988  436.990005  438.744995  438.744995   \n",
       "max    457.200012  459.559998  455.559998  459.250000  459.250000   \n",
       "\n",
       "             Volume  \n",
       "count  2.110000e+02  \n",
       "mean   7.327364e+07  \n",
       "std    2.786448e+07  \n",
       "min    3.555110e+07  \n",
       "25%    5.223650e+07  \n",
       "50%    6.523330e+07  \n",
       "75%    8.588600e+07  \n",
       "max    1.834330e+08  "
      ]
     },
     "execution_count": 26,
     "metadata": {},
     "output_type": "execute_result"
    }
   ],
   "source": [
    "df_spy.describe()"
   ]
  },
  {
   "cell_type": "markdown",
   "metadata": {},
   "source": [
    "### 2. Combine the 3 datasets into one main dataset only."
   ]
  },
  {
   "cell_type": "markdown",
   "metadata": {},
   "source": [
    "Because the 3 datasets contain data from different categories such as members of S&P 500, non-members of S&P 500 and \"SPY\" means SPDR S&P 500 Trust.Therefore: \n",
    "\n",
    "- Create a new column named \"S&P 500\" with values are \"member\" in \"df_sp500\" \n",
    "\n",
    "- Create a new column named \"S&P 500\" with values are \"non-member\" in \"df_non_sp500\"\n",
    "\n",
    "- Create a new column named \"S&P 500\" with values are \"SPDR S&P 500 Trust\" in \"df_spy\""
   ]
  },
  {
   "cell_type": "code",
   "execution_count": 27,
   "metadata": {},
   "outputs": [
    {
     "data": {
      "text/html": [
       "<div>\n",
       "<style scoped>\n",
       "    .dataframe tbody tr th:only-of-type {\n",
       "        vertical-align: middle;\n",
       "    }\n",
       "\n",
       "    .dataframe tbody tr th {\n",
       "        vertical-align: top;\n",
       "    }\n",
       "\n",
       "    .dataframe thead th {\n",
       "        text-align: right;\n",
       "    }\n",
       "</style>\n",
       "<table border=\"1\" class=\"dataframe\">\n",
       "  <thead>\n",
       "    <tr style=\"text-align: right;\">\n",
       "      <th></th>\n",
       "      <th>Ticker</th>\n",
       "      <th>Date</th>\n",
       "      <th>Open</th>\n",
       "      <th>High</th>\n",
       "      <th>Low</th>\n",
       "      <th>Close</th>\n",
       "      <th>Adj Close</th>\n",
       "      <th>Volume</th>\n",
       "      <th>S&amp;P 500</th>\n",
       "    </tr>\n",
       "  </thead>\n",
       "  <tbody>\n",
       "    <tr>\n",
       "      <th>0</th>\n",
       "      <td>MMM</td>\n",
       "      <td>2020-12-30</td>\n",
       "      <td>173.880005</td>\n",
       "      <td>174.919998</td>\n",
       "      <td>173.380005</td>\n",
       "      <td>174.110001</td>\n",
       "      <td>168.753479</td>\n",
       "      <td>1419100</td>\n",
       "      <td>member</td>\n",
       "    </tr>\n",
       "    <tr>\n",
       "      <th>1</th>\n",
       "      <td>MMM</td>\n",
       "      <td>2020-12-31</td>\n",
       "      <td>174.119995</td>\n",
       "      <td>174.869995</td>\n",
       "      <td>173.179993</td>\n",
       "      <td>174.789993</td>\n",
       "      <td>169.412537</td>\n",
       "      <td>1841300</td>\n",
       "      <td>member</td>\n",
       "    </tr>\n",
       "    <tr>\n",
       "      <th>2</th>\n",
       "      <td>MMM</td>\n",
       "      <td>2021-01-04</td>\n",
       "      <td>175.000000</td>\n",
       "      <td>176.199997</td>\n",
       "      <td>170.550003</td>\n",
       "      <td>171.869995</td>\n",
       "      <td>166.582382</td>\n",
       "      <td>2996200</td>\n",
       "      <td>member</td>\n",
       "    </tr>\n",
       "    <tr>\n",
       "      <th>3</th>\n",
       "      <td>MMM</td>\n",
       "      <td>2021-01-05</td>\n",
       "      <td>172.009995</td>\n",
       "      <td>173.250000</td>\n",
       "      <td>170.649994</td>\n",
       "      <td>171.580002</td>\n",
       "      <td>166.301315</td>\n",
       "      <td>2295300</td>\n",
       "      <td>member</td>\n",
       "    </tr>\n",
       "    <tr>\n",
       "      <th>4</th>\n",
       "      <td>MMM</td>\n",
       "      <td>2021-01-06</td>\n",
       "      <td>172.720001</td>\n",
       "      <td>175.570007</td>\n",
       "      <td>172.039993</td>\n",
       "      <td>174.190002</td>\n",
       "      <td>168.831024</td>\n",
       "      <td>3346400</td>\n",
       "      <td>member</td>\n",
       "    </tr>\n",
       "  </tbody>\n",
       "</table>\n",
       "</div>"
      ],
      "text/plain": [
       "  Ticker        Date        Open        High         Low       Close  \\\n",
       "0    MMM  2020-12-30  173.880005  174.919998  173.380005  174.110001   \n",
       "1    MMM  2020-12-31  174.119995  174.869995  173.179993  174.789993   \n",
       "2    MMM  2021-01-04  175.000000  176.199997  170.550003  171.869995   \n",
       "3    MMM  2021-01-05  172.009995  173.250000  170.649994  171.580002   \n",
       "4    MMM  2021-01-06  172.720001  175.570007  172.039993  174.190002   \n",
       "\n",
       "    Adj Close   Volume S&P 500  \n",
       "0  168.753479  1419100  member  \n",
       "1  169.412537  1841300  member  \n",
       "2  166.582382  2996200  member  \n",
       "3  166.301315  2295300  member  \n",
       "4  168.831024  3346400  member  "
      ]
     },
     "execution_count": 27,
     "metadata": {},
     "output_type": "execute_result"
    }
   ],
   "source": [
    "df_sp500['S&P 500'] = \"member\"\n",
    "df_sp500.head()"
   ]
  },
  {
   "cell_type": "code",
   "execution_count": 28,
   "metadata": {},
   "outputs": [
    {
     "data": {
      "text/html": [
       "<div>\n",
       "<style scoped>\n",
       "    .dataframe tbody tr th:only-of-type {\n",
       "        vertical-align: middle;\n",
       "    }\n",
       "\n",
       "    .dataframe tbody tr th {\n",
       "        vertical-align: top;\n",
       "    }\n",
       "\n",
       "    .dataframe thead th {\n",
       "        text-align: right;\n",
       "    }\n",
       "</style>\n",
       "<table border=\"1\" class=\"dataframe\">\n",
       "  <thead>\n",
       "    <tr style=\"text-align: right;\">\n",
       "      <th></th>\n",
       "      <th>Ticker</th>\n",
       "      <th>Date</th>\n",
       "      <th>Open</th>\n",
       "      <th>High</th>\n",
       "      <th>Low</th>\n",
       "      <th>Close</th>\n",
       "      <th>Adj Close</th>\n",
       "      <th>Volume</th>\n",
       "      <th>S&amp;P 500</th>\n",
       "    </tr>\n",
       "  </thead>\n",
       "  <tbody>\n",
       "    <tr>\n",
       "      <th>0</th>\n",
       "      <td>LQD</td>\n",
       "      <td>2020-12-30</td>\n",
       "      <td>137.889999</td>\n",
       "      <td>138.110001</td>\n",
       "      <td>137.789993</td>\n",
       "      <td>138.100006</td>\n",
       "      <td>136.487366</td>\n",
       "      <td>5343100</td>\n",
       "      <td>non-member</td>\n",
       "    </tr>\n",
       "    <tr>\n",
       "      <th>1</th>\n",
       "      <td>LQD</td>\n",
       "      <td>2020-12-31</td>\n",
       "      <td>138.039993</td>\n",
       "      <td>138.220001</td>\n",
       "      <td>137.960007</td>\n",
       "      <td>138.130005</td>\n",
       "      <td>136.517029</td>\n",
       "      <td>6932300</td>\n",
       "      <td>non-member</td>\n",
       "    </tr>\n",
       "    <tr>\n",
       "      <th>2</th>\n",
       "      <td>LQD</td>\n",
       "      <td>2021-01-04</td>\n",
       "      <td>137.889999</td>\n",
       "      <td>137.889999</td>\n",
       "      <td>137.380005</td>\n",
       "      <td>137.429993</td>\n",
       "      <td>135.825195</td>\n",
       "      <td>14891400</td>\n",
       "      <td>non-member</td>\n",
       "    </tr>\n",
       "    <tr>\n",
       "      <th>3</th>\n",
       "      <td>LQD</td>\n",
       "      <td>2021-01-05</td>\n",
       "      <td>137.059998</td>\n",
       "      <td>137.059998</td>\n",
       "      <td>136.550003</td>\n",
       "      <td>136.990005</td>\n",
       "      <td>135.390350</td>\n",
       "      <td>16294400</td>\n",
       "      <td>non-member</td>\n",
       "    </tr>\n",
       "    <tr>\n",
       "      <th>4</th>\n",
       "      <td>LQD</td>\n",
       "      <td>2021-01-06</td>\n",
       "      <td>135.779999</td>\n",
       "      <td>135.979996</td>\n",
       "      <td>135.399994</td>\n",
       "      <td>135.880005</td>\n",
       "      <td>134.293289</td>\n",
       "      <td>19136500</td>\n",
       "      <td>non-member</td>\n",
       "    </tr>\n",
       "  </tbody>\n",
       "</table>\n",
       "</div>"
      ],
      "text/plain": [
       "  Ticker        Date        Open        High         Low       Close  \\\n",
       "0    LQD  2020-12-30  137.889999  138.110001  137.789993  138.100006   \n",
       "1    LQD  2020-12-31  138.039993  138.220001  137.960007  138.130005   \n",
       "2    LQD  2021-01-04  137.889999  137.889999  137.380005  137.429993   \n",
       "3    LQD  2021-01-05  137.059998  137.059998  136.550003  136.990005   \n",
       "4    LQD  2021-01-06  135.779999  135.979996  135.399994  135.880005   \n",
       "\n",
       "    Adj Close    Volume     S&P 500  \n",
       "0  136.487366   5343100  non-member  \n",
       "1  136.517029   6932300  non-member  \n",
       "2  135.825195  14891400  non-member  \n",
       "3  135.390350  16294400  non-member  \n",
       "4  134.293289  19136500  non-member  "
      ]
     },
     "execution_count": 28,
     "metadata": {},
     "output_type": "execute_result"
    }
   ],
   "source": [
    "df_non_sp500['S&P 500'] = \"non-member\"\n",
    "df_non_sp500.head()"
   ]
  },
  {
   "cell_type": "code",
   "execution_count": 29,
   "metadata": {},
   "outputs": [
    {
     "data": {
      "text/html": [
       "<div>\n",
       "<style scoped>\n",
       "    .dataframe tbody tr th:only-of-type {\n",
       "        vertical-align: middle;\n",
       "    }\n",
       "\n",
       "    .dataframe tbody tr th {\n",
       "        vertical-align: top;\n",
       "    }\n",
       "\n",
       "    .dataframe thead th {\n",
       "        text-align: right;\n",
       "    }\n",
       "</style>\n",
       "<table border=\"1\" class=\"dataframe\">\n",
       "  <thead>\n",
       "    <tr style=\"text-align: right;\">\n",
       "      <th></th>\n",
       "      <th>Ticker</th>\n",
       "      <th>Date</th>\n",
       "      <th>Open</th>\n",
       "      <th>High</th>\n",
       "      <th>Low</th>\n",
       "      <th>Close</th>\n",
       "      <th>Adj Close</th>\n",
       "      <th>Volume</th>\n",
       "      <th>S&amp;P 500</th>\n",
       "    </tr>\n",
       "  </thead>\n",
       "  <tbody>\n",
       "    <tr>\n",
       "      <th>0</th>\n",
       "      <td>SPY</td>\n",
       "      <td>2020-12-30</td>\n",
       "      <td>372.339996</td>\n",
       "      <td>373.100006</td>\n",
       "      <td>371.570007</td>\n",
       "      <td>371.989990</td>\n",
       "      <td>369.566559</td>\n",
       "      <td>49455300</td>\n",
       "      <td>SPDR S&amp;P 500 Trust</td>\n",
       "    </tr>\n",
       "    <tr>\n",
       "      <th>1</th>\n",
       "      <td>SPY</td>\n",
       "      <td>2020-12-31</td>\n",
       "      <td>371.779999</td>\n",
       "      <td>374.660004</td>\n",
       "      <td>371.230011</td>\n",
       "      <td>373.880005</td>\n",
       "      <td>371.444244</td>\n",
       "      <td>78520700</td>\n",
       "      <td>SPDR S&amp;P 500 Trust</td>\n",
       "    </tr>\n",
       "    <tr>\n",
       "      <th>2</th>\n",
       "      <td>SPY</td>\n",
       "      <td>2021-01-04</td>\n",
       "      <td>375.309998</td>\n",
       "      <td>375.450012</td>\n",
       "      <td>364.820007</td>\n",
       "      <td>368.790009</td>\n",
       "      <td>366.387390</td>\n",
       "      <td>110210800</td>\n",
       "      <td>SPDR S&amp;P 500 Trust</td>\n",
       "    </tr>\n",
       "    <tr>\n",
       "      <th>3</th>\n",
       "      <td>SPY</td>\n",
       "      <td>2021-01-05</td>\n",
       "      <td>368.100006</td>\n",
       "      <td>372.500000</td>\n",
       "      <td>368.049988</td>\n",
       "      <td>371.329987</td>\n",
       "      <td>368.910828</td>\n",
       "      <td>66426200</td>\n",
       "      <td>SPDR S&amp;P 500 Trust</td>\n",
       "    </tr>\n",
       "    <tr>\n",
       "      <th>4</th>\n",
       "      <td>SPY</td>\n",
       "      <td>2021-01-06</td>\n",
       "      <td>369.709991</td>\n",
       "      <td>376.980011</td>\n",
       "      <td>369.119995</td>\n",
       "      <td>373.549988</td>\n",
       "      <td>371.116394</td>\n",
       "      <td>107997700</td>\n",
       "      <td>SPDR S&amp;P 500 Trust</td>\n",
       "    </tr>\n",
       "  </tbody>\n",
       "</table>\n",
       "</div>"
      ],
      "text/plain": [
       "  Ticker        Date        Open        High         Low       Close  \\\n",
       "0    SPY  2020-12-30  372.339996  373.100006  371.570007  371.989990   \n",
       "1    SPY  2020-12-31  371.779999  374.660004  371.230011  373.880005   \n",
       "2    SPY  2021-01-04  375.309998  375.450012  364.820007  368.790009   \n",
       "3    SPY  2021-01-05  368.100006  372.500000  368.049988  371.329987   \n",
       "4    SPY  2021-01-06  369.709991  376.980011  369.119995  373.549988   \n",
       "\n",
       "    Adj Close     Volume             S&P 500  \n",
       "0  369.566559   49455300  SPDR S&P 500 Trust  \n",
       "1  371.444244   78520700  SPDR S&P 500 Trust  \n",
       "2  366.387390  110210800  SPDR S&P 500 Trust  \n",
       "3  368.910828   66426200  SPDR S&P 500 Trust  \n",
       "4  371.116394  107997700  SPDR S&P 500 Trust  "
      ]
     },
     "execution_count": 29,
     "metadata": {},
     "output_type": "execute_result"
    }
   ],
   "source": [
    "df_spy['S&P 500'] = \"SPDR S&P 500 Trust\"\n",
    "df_spy.head()"
   ]
  },
  {
   "cell_type": "markdown",
   "metadata": {},
   "source": [
    "... if all column names match, we can concatenate the files:"
   ]
  },
  {
   "cell_type": "code",
   "execution_count": 30,
   "metadata": {},
   "outputs": [
    {
     "data": {
      "text/html": [
       "<div>\n",
       "<style scoped>\n",
       "    .dataframe tbody tr th:only-of-type {\n",
       "        vertical-align: middle;\n",
       "    }\n",
       "\n",
       "    .dataframe tbody tr th {\n",
       "        vertical-align: top;\n",
       "    }\n",
       "\n",
       "    .dataframe thead th {\n",
       "        text-align: right;\n",
       "    }\n",
       "</style>\n",
       "<table border=\"1\" class=\"dataframe\">\n",
       "  <thead>\n",
       "    <tr style=\"text-align: right;\">\n",
       "      <th></th>\n",
       "      <th>Ticker</th>\n",
       "      <th>Date</th>\n",
       "      <th>Open</th>\n",
       "      <th>High</th>\n",
       "      <th>Low</th>\n",
       "      <th>Close</th>\n",
       "      <th>Adj Close</th>\n",
       "      <th>Volume</th>\n",
       "      <th>S&amp;P 500</th>\n",
       "    </tr>\n",
       "  </thead>\n",
       "  <tbody>\n",
       "    <tr>\n",
       "      <th>0</th>\n",
       "      <td>MMM</td>\n",
       "      <td>2020-12-30</td>\n",
       "      <td>173.880005</td>\n",
       "      <td>174.919998</td>\n",
       "      <td>173.380005</td>\n",
       "      <td>174.110001</td>\n",
       "      <td>168.753479</td>\n",
       "      <td>1419100</td>\n",
       "      <td>member</td>\n",
       "    </tr>\n",
       "    <tr>\n",
       "      <th>1</th>\n",
       "      <td>MMM</td>\n",
       "      <td>2020-12-31</td>\n",
       "      <td>174.119995</td>\n",
       "      <td>174.869995</td>\n",
       "      <td>173.179993</td>\n",
       "      <td>174.789993</td>\n",
       "      <td>169.412537</td>\n",
       "      <td>1841300</td>\n",
       "      <td>member</td>\n",
       "    </tr>\n",
       "    <tr>\n",
       "      <th>2</th>\n",
       "      <td>MMM</td>\n",
       "      <td>2021-01-04</td>\n",
       "      <td>175.000000</td>\n",
       "      <td>176.199997</td>\n",
       "      <td>170.550003</td>\n",
       "      <td>171.869995</td>\n",
       "      <td>166.582382</td>\n",
       "      <td>2996200</td>\n",
       "      <td>member</td>\n",
       "    </tr>\n",
       "    <tr>\n",
       "      <th>3</th>\n",
       "      <td>MMM</td>\n",
       "      <td>2021-01-05</td>\n",
       "      <td>172.009995</td>\n",
       "      <td>173.250000</td>\n",
       "      <td>170.649994</td>\n",
       "      <td>171.580002</td>\n",
       "      <td>166.301315</td>\n",
       "      <td>2295300</td>\n",
       "      <td>member</td>\n",
       "    </tr>\n",
       "    <tr>\n",
       "      <th>4</th>\n",
       "      <td>MMM</td>\n",
       "      <td>2021-01-06</td>\n",
       "      <td>172.720001</td>\n",
       "      <td>175.570007</td>\n",
       "      <td>172.039993</td>\n",
       "      <td>174.190002</td>\n",
       "      <td>168.831024</td>\n",
       "      <td>3346400</td>\n",
       "      <td>member</td>\n",
       "    </tr>\n",
       "  </tbody>\n",
       "</table>\n",
       "</div>"
      ],
      "text/plain": [
       "  Ticker        Date        Open        High         Low       Close  \\\n",
       "0    MMM  2020-12-30  173.880005  174.919998  173.380005  174.110001   \n",
       "1    MMM  2020-12-31  174.119995  174.869995  173.179993  174.789993   \n",
       "2    MMM  2021-01-04  175.000000  176.199997  170.550003  171.869995   \n",
       "3    MMM  2021-01-05  172.009995  173.250000  170.649994  171.580002   \n",
       "4    MMM  2021-01-06  172.720001  175.570007  172.039993  174.190002   \n",
       "\n",
       "    Adj Close   Volume S&P 500  \n",
       "0  168.753479  1419100  member  \n",
       "1  169.412537  1841300  member  \n",
       "2  166.582382  2996200  member  \n",
       "3  166.301315  2295300  member  \n",
       "4  168.831024  3346400  member  "
      ]
     },
     "execution_count": 30,
     "metadata": {},
     "output_type": "execute_result"
    }
   ],
   "source": [
    "df_stock_data = pd.concat([df_sp500, \n",
    "                            df_non_sp500,\n",
    "                             df_spy])\n",
    "df_stock_data.head()"
   ]
  },
  {
   "cell_type": "code",
   "execution_count": 31,
   "metadata": {},
   "outputs": [
    {
     "name": "stdout",
     "output_type": "stream",
     "text": [
      "<class 'pandas.core.frame.DataFrame'>\n",
      "Int64Index: 205422 entries, 0 to 210\n",
      "Data columns (total 9 columns):\n",
      " #   Column     Non-Null Count   Dtype  \n",
      "---  ------     --------------   -----  \n",
      " 0   Ticker     205422 non-null  object \n",
      " 1   Date       205422 non-null  object \n",
      " 2   Open       205422 non-null  float64\n",
      " 3   High       205422 non-null  float64\n",
      " 4   Low        205422 non-null  float64\n",
      " 5   Close      205422 non-null  float64\n",
      " 6   Adj Close  205422 non-null  float64\n",
      " 7   Volume     205422 non-null  int64  \n",
      " 8   S&P 500    205422 non-null  object \n",
      "dtypes: float64(5), int64(1), object(3)\n",
      "memory usage: 15.7+ MB\n"
     ]
    }
   ],
   "source": [
    "# Make a little test on the concatenated file:\n",
    "df_stock_data.info()"
   ]
  },
  {
   "cell_type": "code",
   "execution_count": 32,
   "metadata": {},
   "outputs": [
    {
     "data": {
      "text/plain": [
       "(205422, 9)"
      ]
     },
     "execution_count": 32,
     "metadata": {},
     "output_type": "execute_result"
    }
   ],
   "source": [
    "df_stock_data.shape"
   ]
  },
  {
   "cell_type": "code",
   "execution_count": 33,
   "metadata": {},
   "outputs": [
    {
     "data": {
      "text/html": [
       "<div>\n",
       "<style scoped>\n",
       "    .dataframe tbody tr th:only-of-type {\n",
       "        vertical-align: middle;\n",
       "    }\n",
       "\n",
       "    .dataframe tbody tr th {\n",
       "        vertical-align: top;\n",
       "    }\n",
       "\n",
       "    .dataframe thead th {\n",
       "        text-align: right;\n",
       "    }\n",
       "</style>\n",
       "<table border=\"1\" class=\"dataframe\">\n",
       "  <thead>\n",
       "    <tr style=\"text-align: right;\">\n",
       "      <th></th>\n",
       "      <th>Open</th>\n",
       "      <th>High</th>\n",
       "      <th>Low</th>\n",
       "      <th>Close</th>\n",
       "      <th>Adj Close</th>\n",
       "      <th>Volume</th>\n",
       "    </tr>\n",
       "  </thead>\n",
       "  <tbody>\n",
       "    <tr>\n",
       "      <th>count</th>\n",
       "      <td>205422.000000</td>\n",
       "      <td>205422.000000</td>\n",
       "      <td>205422.000000</td>\n",
       "      <td>205422.000000</td>\n",
       "      <td>205422.000000</td>\n",
       "      <td>2.054220e+05</td>\n",
       "    </tr>\n",
       "    <tr>\n",
       "      <th>mean</th>\n",
       "      <td>137.784673</td>\n",
       "      <td>139.611455</td>\n",
       "      <td>135.912581</td>\n",
       "      <td>137.785764</td>\n",
       "      <td>137.225014</td>\n",
       "      <td>4.830442e+06</td>\n",
       "    </tr>\n",
       "    <tr>\n",
       "      <th>std</th>\n",
       "      <td>272.534417</td>\n",
       "      <td>275.625075</td>\n",
       "      <td>269.434811</td>\n",
       "      <td>272.607927</td>\n",
       "      <td>272.533139</td>\n",
       "      <td>1.421895e+07</td>\n",
       "    </tr>\n",
       "    <tr>\n",
       "      <th>min</th>\n",
       "      <td>0.340000</td>\n",
       "      <td>0.360000</td>\n",
       "      <td>0.330000</td>\n",
       "      <td>0.340000</td>\n",
       "      <td>0.340000</td>\n",
       "      <td>0.000000e+00</td>\n",
       "    </tr>\n",
       "    <tr>\n",
       "      <th>25%</th>\n",
       "      <td>35.439999</td>\n",
       "      <td>36.119999</td>\n",
       "      <td>34.779999</td>\n",
       "      <td>35.459999</td>\n",
       "      <td>35.160640</td>\n",
       "      <td>7.334000e+05</td>\n",
       "    </tr>\n",
       "    <tr>\n",
       "      <th>50%</th>\n",
       "      <td>73.529999</td>\n",
       "      <td>74.629997</td>\n",
       "      <td>72.400002</td>\n",
       "      <td>73.559998</td>\n",
       "      <td>72.997272</td>\n",
       "      <td>1.672100e+06</td>\n",
       "    </tr>\n",
       "    <tr>\n",
       "      <th>75%</th>\n",
       "      <td>153.157501</td>\n",
       "      <td>155.360001</td>\n",
       "      <td>150.857502</td>\n",
       "      <td>153.149994</td>\n",
       "      <td>152.063236</td>\n",
       "      <td>4.174750e+06</td>\n",
       "    </tr>\n",
       "    <tr>\n",
       "      <th>max</th>\n",
       "      <td>5320.000000</td>\n",
       "      <td>5332.080078</td>\n",
       "      <td>5242.089844</td>\n",
       "      <td>5313.569824</td>\n",
       "      <td>5313.569824</td>\n",
       "      <td>1.222342e+09</td>\n",
       "    </tr>\n",
       "  </tbody>\n",
       "</table>\n",
       "</div>"
      ],
      "text/plain": [
       "                Open           High            Low          Close  \\\n",
       "count  205422.000000  205422.000000  205422.000000  205422.000000   \n",
       "mean      137.784673     139.611455     135.912581     137.785764   \n",
       "std       272.534417     275.625075     269.434811     272.607927   \n",
       "min         0.340000       0.360000       0.330000       0.340000   \n",
       "25%        35.439999      36.119999      34.779999      35.459999   \n",
       "50%        73.529999      74.629997      72.400002      73.559998   \n",
       "75%       153.157501     155.360001     150.857502     153.149994   \n",
       "max      5320.000000    5332.080078    5242.089844    5313.569824   \n",
       "\n",
       "           Adj Close        Volume  \n",
       "count  205422.000000  2.054220e+05  \n",
       "mean      137.225014  4.830442e+06  \n",
       "std       272.533139  1.421895e+07  \n",
       "min         0.340000  0.000000e+00  \n",
       "25%        35.160640  7.334000e+05  \n",
       "50%        72.997272  1.672100e+06  \n",
       "75%       152.063236  4.174750e+06  \n",
       "max      5313.569824  1.222342e+09  "
      ]
     },
     "execution_count": 33,
     "metadata": {},
     "output_type": "execute_result"
    }
   ],
   "source": [
    "df_stock_data.describe()"
   ]
  },
  {
   "cell_type": "code",
   "execution_count": 34,
   "metadata": {},
   "outputs": [
    {
     "data": {
      "text/plain": [
       "member                106462\n",
       "non-member             98749\n",
       "SPDR S&P 500 Trust       211\n",
       "Name: S&P 500, dtype: int64"
      ]
     },
     "execution_count": 34,
     "metadata": {},
     "output_type": "execute_result"
    }
   ],
   "source": [
    "# Find out how many different values on categorical variable\n",
    "df_stock_data['S&P 500'].value_counts()"
   ]
  },
  {
   "cell_type": "code",
   "execution_count": 35,
   "metadata": {},
   "outputs": [
    {
     "data": {
      "text/plain": [
       "Index(['Ticker', 'Date', 'Open', 'High', 'Low', 'Close', 'Adj Close', 'Volume',\n",
       "       'S&P 500'],\n",
       "      dtype='object')"
      ]
     },
     "execution_count": 35,
     "metadata": {},
     "output_type": "execute_result"
    }
   ],
   "source": [
    "# Find out all columns names: \n",
    "allColumns= df_stock_data.columns\n",
    "allColumns"
   ]
  },
  {
   "cell_type": "code",
   "execution_count": 36,
   "metadata": {},
   "outputs": [
    {
     "data": {
      "text/plain": [
       "9"
      ]
     },
     "execution_count": 36,
     "metadata": {},
     "output_type": "execute_result"
    }
   ],
   "source": [
    "len(allColumns)"
   ]
  },
  {
   "cell_type": "code",
   "execution_count": 37,
   "metadata": {},
   "outputs": [],
   "source": [
    "# Write the combined data into a csv file:\n",
    "\n",
    "df_stock_data.to_csv(\"../Tran_Dao_Data/Tran_Dao_StudC_stock_data_src.csv\",index = False)"
   ]
  },
  {
   "cell_type": "markdown",
   "metadata": {},
   "source": [
    "##### Make the file \"Tran_Dao_StudC_stock_data_src\" dirty with some impurities as below:\n",
    "\n",
    "- 1. Unnecessary Data\n",
    "- 2. Ugly column names\n",
    "- 3. Missing data\n",
    "     - NaN\n",
    "- 4. Uniqueness constraints: \n",
    "     - duplicated  \n",
    "- 5. Outliers\n",
    "- 6. Data type constraints\n",
    "    - wrong data type: datetime\n",
    "- 7. Data range constraints\n",
    "    - datetime\n",
    "- 8. Value inconsistency\n",
    "    - white space, capitalize, lowercase, etc.\n",
    "\n",
    "##### Then save it by the name \"Tran_Dao_StudC_stock_data_src_dirty.csv\"."
   ]
  },
  {
   "cell_type": "markdown",
   "metadata": {},
   "source": [
    "### 3. Cleaning the dirty data that was made changes manually\n",
    "\n"
   ]
  },
  {
   "cell_type": "markdown",
   "metadata": {},
   "source": [
    "##### Inspecting the dirty dataset"
   ]
  },
  {
   "cell_type": "code",
   "execution_count": 38,
   "metadata": {},
   "outputs": [
    {
     "name": "stderr",
     "output_type": "stream",
     "text": [
      "C:\\Users\\ttanh\\anaconda3\\lib\\site-packages\\IPython\\core\\interactiveshell.py:3146: DtypeWarning: Columns (10) have mixed types.Specify dtype option on import or set low_memory=False.\n",
      "  has_raised = await self.run_ast_nodes(code_ast.body, cell_name,\n"
     ]
    },
    {
     "data": {
      "text/html": [
       "<div>\n",
       "<style scoped>\n",
       "    .dataframe tbody tr th:only-of-type {\n",
       "        vertical-align: middle;\n",
       "    }\n",
       "\n",
       "    .dataframe tbody tr th {\n",
       "        vertical-align: top;\n",
       "    }\n",
       "\n",
       "    .dataframe thead th {\n",
       "        text-align: right;\n",
       "    }\n",
       "</style>\n",
       "<table border=\"1\" class=\"dataframe\">\n",
       "  <thead>\n",
       "    <tr style=\"text-align: right;\">\n",
       "      <th></th>\n",
       "      <th>Unnamed: 0</th>\n",
       "      <th>Ticker</th>\n",
       "      <th>01 ! Date</th>\n",
       "      <th>02 ! Open</th>\n",
       "      <th>03 ! High</th>\n",
       "      <th>04 ! Low</th>\n",
       "      <th>05 ! Close</th>\n",
       "      <th>06 ! Adj Close</th>\n",
       "      <th>07 ! Volume</th>\n",
       "      <th>sp500</th>\n",
       "      <th>s/d</th>\n",
       "    </tr>\n",
       "  </thead>\n",
       "  <tbody>\n",
       "    <tr>\n",
       "      <th>0</th>\n",
       "      <td>0</td>\n",
       "      <td>MMM</td>\n",
       "      <td>12/30/2020</td>\n",
       "      <td>173.880005</td>\n",
       "      <td>174.919998</td>\n",
       "      <td>173.380005</td>\n",
       "      <td>10074.110000</td>\n",
       "      <td>168.753479</td>\n",
       "      <td>1419100.0</td>\n",
       "      <td>member</td>\n",
       "      <td>d</td>\n",
       "    </tr>\n",
       "    <tr>\n",
       "      <th>1</th>\n",
       "      <td>1</td>\n",
       "      <td>MMM</td>\n",
       "      <td>12/31/2020</td>\n",
       "      <td>174.119995</td>\n",
       "      <td>174.869995</td>\n",
       "      <td>173.179993</td>\n",
       "      <td>174.789993</td>\n",
       "      <td>169.412537</td>\n",
       "      <td>1841300.0</td>\n",
       "      <td>member</td>\n",
       "      <td>NaN</td>\n",
       "    </tr>\n",
       "    <tr>\n",
       "      <th>2</th>\n",
       "      <td>2</td>\n",
       "      <td>MMM</td>\n",
       "      <td>1/4/2021</td>\n",
       "      <td>175.000000</td>\n",
       "      <td>176.199997</td>\n",
       "      <td>170.550003</td>\n",
       "      <td>171.869995</td>\n",
       "      <td>166.582382</td>\n",
       "      <td>2996200.0</td>\n",
       "      <td>member</td>\n",
       "      <td>NaN</td>\n",
       "    </tr>\n",
       "    <tr>\n",
       "      <th>3</th>\n",
       "      <td>3</td>\n",
       "      <td>MMM</td>\n",
       "      <td>1/5/2021</td>\n",
       "      <td>172.009995</td>\n",
       "      <td>173.250000</td>\n",
       "      <td>170.649994</td>\n",
       "      <td>171.580002</td>\n",
       "      <td>166.301315</td>\n",
       "      <td>2295300.0</td>\n",
       "      <td>member</td>\n",
       "      <td>NaN</td>\n",
       "    </tr>\n",
       "    <tr>\n",
       "      <th>4</th>\n",
       "      <td>4</td>\n",
       "      <td>MMM</td>\n",
       "      <td>1/6/2021</td>\n",
       "      <td>172.720001</td>\n",
       "      <td>175.570007</td>\n",
       "      <td>172.039993</td>\n",
       "      <td>174.190002</td>\n",
       "      <td>168.831024</td>\n",
       "      <td>3346400.0</td>\n",
       "      <td>member</td>\n",
       "      <td>NaN</td>\n",
       "    </tr>\n",
       "  </tbody>\n",
       "</table>\n",
       "</div>"
      ],
      "text/plain": [
       "   Unnamed: 0 Ticker   01 ! Date   02 ! Open   03 ! High    04 ! Low  \\\n",
       "0           0    MMM  12/30/2020  173.880005  174.919998  173.380005   \n",
       "1           1    MMM  12/31/2020  174.119995  174.869995  173.179993   \n",
       "2           2    MMM    1/4/2021  175.000000  176.199997  170.550003   \n",
       "3           3    MMM    1/5/2021  172.009995  173.250000  170.649994   \n",
       "4           4    MMM    1/6/2021  172.720001  175.570007  172.039993   \n",
       "\n",
       "     05 ! Close  06 ! Adj Close  07 ! Volume   sp500  s/d  \n",
       "0  10074.110000      168.753479    1419100.0  member    d  \n",
       "1    174.789993      169.412537    1841300.0  member  NaN  \n",
       "2    171.869995      166.582382    2996200.0  member  NaN  \n",
       "3    171.580002      166.301315    2295300.0  member  NaN  \n",
       "4    174.190002      168.831024    3346400.0  member  NaN  "
      ]
     },
     "execution_count": 38,
     "metadata": {},
     "output_type": "execute_result"
    }
   ],
   "source": [
    "# Read the dirty dataset into a pandas dataframe\n",
    "df_dirty = pd.read_csv(\"../Tran_Dao_Data/Tran_Dao_StudC_stock_data_src_dirty.csv\")\n",
    "\n",
    "# Take a look at the first few rows\n",
    "df_dirty.head()"
   ]
  },
  {
   "cell_type": "code",
   "execution_count": 39,
   "metadata": {},
   "outputs": [
    {
     "name": "stdout",
     "output_type": "stream",
     "text": [
      "<class 'pandas.core.frame.DataFrame'>\n",
      "RangeIndex: 205446 entries, 0 to 205445\n",
      "Data columns (total 11 columns):\n",
      " #   Column          Non-Null Count   Dtype  \n",
      "---  ------          --------------   -----  \n",
      " 0   Unnamed: 0      205446 non-null  int64  \n",
      " 1   Ticker          205445 non-null  object \n",
      " 2   01 ! Date       205445 non-null  object \n",
      " 3   02 ! Open       205446 non-null  float64\n",
      " 4   03 ! High       205446 non-null  float64\n",
      " 5   04 ! Low        205445 non-null  float64\n",
      " 6   05 ! Close      205445 non-null  float64\n",
      " 7   06 ! Adj Close  205446 non-null  float64\n",
      " 8   07 ! Volume     205445 non-null  float64\n",
      " 9   sp500           205446 non-null  object \n",
      " 10  s/d             56 non-null      object \n",
      "dtypes: float64(6), int64(1), object(4)\n",
      "memory usage: 17.2+ MB\n"
     ]
    }
   ],
   "source": [
    "# Get information\n",
    "df_dirty.info()"
   ]
  },
  {
   "cell_type": "code",
   "execution_count": 40,
   "metadata": {},
   "outputs": [
    {
     "data": {
      "text/plain": [
       "(205446, 11)"
      ]
     },
     "execution_count": 40,
     "metadata": {},
     "output_type": "execute_result"
    }
   ],
   "source": [
    "# Check number of rows and columns\n",
    "df_dirty.shape"
   ]
  },
  {
   "cell_type": "code",
   "execution_count": 41,
   "metadata": {},
   "outputs": [
    {
     "data": {
      "text/plain": [
       "Index(['Unnamed: 0', 'Ticker', '01 ! Date', '02 ! Open', '03 ! High',\n",
       "       '04 ! Low', '05 ! Close', '06 ! Adj Close', '07 ! Volume', 'sp500',\n",
       "       's/d'],\n",
       "      dtype='object')"
      ]
     },
     "execution_count": 41,
     "metadata": {},
     "output_type": "execute_result"
    }
   ],
   "source": [
    "df_dirty.columns"
   ]
  },
  {
   "cell_type": "code",
   "execution_count": 42,
   "metadata": {},
   "outputs": [
    {
     "data": {
      "text/html": [
       "<div>\n",
       "<style scoped>\n",
       "    .dataframe tbody tr th:only-of-type {\n",
       "        vertical-align: middle;\n",
       "    }\n",
       "\n",
       "    .dataframe tbody tr th {\n",
       "        vertical-align: top;\n",
       "    }\n",
       "\n",
       "    .dataframe thead th {\n",
       "        text-align: right;\n",
       "    }\n",
       "</style>\n",
       "<table border=\"1\" class=\"dataframe\">\n",
       "  <thead>\n",
       "    <tr style=\"text-align: right;\">\n",
       "      <th></th>\n",
       "      <th>Unnamed: 0</th>\n",
       "      <th>02 ! Open</th>\n",
       "      <th>03 ! High</th>\n",
       "      <th>04 ! Low</th>\n",
       "      <th>05 ! Close</th>\n",
       "      <th>06 ! Adj Close</th>\n",
       "      <th>07 ! Volume</th>\n",
       "    </tr>\n",
       "  </thead>\n",
       "  <tbody>\n",
       "    <tr>\n",
       "      <th>count</th>\n",
       "      <td>205446.000000</td>\n",
       "      <td>205446.000000</td>\n",
       "      <td>205446.000000</td>\n",
       "      <td>205445.000000</td>\n",
       "      <td>205445.000000</td>\n",
       "      <td>205446.000000</td>\n",
       "      <td>2.054450e+05</td>\n",
       "    </tr>\n",
       "    <tr>\n",
       "      <th>mean</th>\n",
       "      <td>51316.083126</td>\n",
       "      <td>137.804911</td>\n",
       "      <td>139.631695</td>\n",
       "      <td>135.932692</td>\n",
       "      <td>137.902172</td>\n",
       "      <td>137.255049</td>\n",
       "      <td>4.833037e+06</td>\n",
       "    </tr>\n",
       "    <tr>\n",
       "      <th>std</th>\n",
       "      <td>29778.352910</td>\n",
       "      <td>272.528547</td>\n",
       "      <td>275.618922</td>\n",
       "      <td>269.429938</td>\n",
       "      <td>274.363992</td>\n",
       "      <td>272.536991</td>\n",
       "      <td>1.422336e+07</td>\n",
       "    </tr>\n",
       "    <tr>\n",
       "      <th>min</th>\n",
       "      <td>0.000000</td>\n",
       "      <td>0.340000</td>\n",
       "      <td>0.360000</td>\n",
       "      <td>0.330000</td>\n",
       "      <td>0.340000</td>\n",
       "      <td>0.340000</td>\n",
       "      <td>0.000000e+00</td>\n",
       "    </tr>\n",
       "    <tr>\n",
       "      <th>25%</th>\n",
       "      <td>25563.000000</td>\n",
       "      <td>35.450001</td>\n",
       "      <td>36.119999</td>\n",
       "      <td>34.790001</td>\n",
       "      <td>35.459999</td>\n",
       "      <td>35.169998</td>\n",
       "      <td>7.334000e+05</td>\n",
       "    </tr>\n",
       "    <tr>\n",
       "      <th>50%</th>\n",
       "      <td>51243.500000</td>\n",
       "      <td>73.540001</td>\n",
       "      <td>74.645000</td>\n",
       "      <td>72.419998</td>\n",
       "      <td>73.570000</td>\n",
       "      <td>73.025166</td>\n",
       "      <td>1.672200e+06</td>\n",
       "    </tr>\n",
       "    <tr>\n",
       "      <th>75%</th>\n",
       "      <td>76924.000000</td>\n",
       "      <td>153.210007</td>\n",
       "      <td>155.407501</td>\n",
       "      <td>150.910004</td>\n",
       "      <td>153.179993</td>\n",
       "      <td>152.132545</td>\n",
       "      <td>4.175100e+06</td>\n",
       "    </tr>\n",
       "    <tr>\n",
       "      <th>max</th>\n",
       "      <td>106461.000000</td>\n",
       "      <td>5320.000000</td>\n",
       "      <td>5332.080078</td>\n",
       "      <td>5242.089844</td>\n",
       "      <td>10097.140000</td>\n",
       "      <td>5313.569824</td>\n",
       "      <td>1.222342e+09</td>\n",
       "    </tr>\n",
       "  </tbody>\n",
       "</table>\n",
       "</div>"
      ],
      "text/plain": [
       "          Unnamed: 0      02 ! Open      03 ! High       04 ! Low  \\\n",
       "count  205446.000000  205446.000000  205446.000000  205445.000000   \n",
       "mean    51316.083126     137.804911     139.631695     135.932692   \n",
       "std     29778.352910     272.528547     275.618922     269.429938   \n",
       "min         0.000000       0.340000       0.360000       0.330000   \n",
       "25%     25563.000000      35.450001      36.119999      34.790001   \n",
       "50%     51243.500000      73.540001      74.645000      72.419998   \n",
       "75%     76924.000000     153.210007     155.407501     150.910004   \n",
       "max    106461.000000    5320.000000    5332.080078    5242.089844   \n",
       "\n",
       "          05 ! Close  06 ! Adj Close   07 ! Volume  \n",
       "count  205445.000000   205446.000000  2.054450e+05  \n",
       "mean      137.902172      137.255049  4.833037e+06  \n",
       "std       274.363992      272.536991  1.422336e+07  \n",
       "min         0.340000        0.340000  0.000000e+00  \n",
       "25%        35.459999       35.169998  7.334000e+05  \n",
       "50%        73.570000       73.025166  1.672200e+06  \n",
       "75%       153.179993      152.132545  4.175100e+06  \n",
       "max     10097.140000     5313.569824  1.222342e+09  "
      ]
     },
     "execution_count": 42,
     "metadata": {},
     "output_type": "execute_result"
    }
   ],
   "source": [
    "# Get a statistic overview\n",
    "df_dirty.describe()"
   ]
  },
  {
   "cell_type": "markdown",
   "metadata": {},
   "source": [
    "##### 3.1 Dropping unnecessary columns in a dataFrame"
   ]
  },
  {
   "cell_type": "markdown",
   "metadata": {},
   "source": [
    "There are 2 columns unneccesary so define a list that contains the names of all the columns we want to drop. Next, we call the *drop()* function on our object, passing in the inplace parameter as True and the axis parameter as 1:"
   ]
  },
  {
   "cell_type": "code",
   "execution_count": 43,
   "metadata": {},
   "outputs": [],
   "source": [
    "# Drop the unnecessary column\n",
    "\n",
    "to_drop = ['Unnamed: 0','s/d']\n",
    "df_dirty.drop(to_drop, inplace=True, axis=1)"
   ]
  },
  {
   "cell_type": "code",
   "execution_count": 44,
   "metadata": {},
   "outputs": [
    {
     "data": {
      "text/plain": [
       "Index(['Ticker', '01 ! Date', '02 ! Open', '03 ! High', '04 ! Low',\n",
       "       '05 ! Close', '06 ! Adj Close', '07 ! Volume', 'sp500'],\n",
       "      dtype='object')"
      ]
     },
     "execution_count": 44,
     "metadata": {},
     "output_type": "execute_result"
    }
   ],
   "source": [
    "df_dirty.columns"
   ]
  },
  {
   "cell_type": "markdown",
   "metadata": {},
   "source": [
    "##### 3.2 Rename columns"
   ]
  },
  {
   "cell_type": "markdown",
   "metadata": {},
   "source": [
    "Define a dictionary that maps current column names (as keys) to more usable ones (the dictionary’s values):"
   ]
  },
  {
   "cell_type": "code",
   "execution_count": 45,
   "metadata": {},
   "outputs": [],
   "source": [
    "new_names =  {'01 ! Date': 'Date',\n",
    "              '02 ! Open': 'Open',\n",
    "              '03 ! High': 'High',\n",
    "              '04 ! Low': 'Low',\n",
    "              '05 ! Close': 'Close', \n",
    "              '06 ! Adj Close': 'Adj Close', \n",
    "              '07 ! Volume': 'Volume',\n",
    "              'sp500': 'S&P 500',\n",
    "             }"
   ]
  },
  {
   "cell_type": "code",
   "execution_count": 46,
   "metadata": {},
   "outputs": [],
   "source": [
    "df_dirty.rename(columns=new_names, inplace=True)"
   ]
  },
  {
   "cell_type": "code",
   "execution_count": 47,
   "metadata": {},
   "outputs": [
    {
     "data": {
      "text/plain": [
       "Index(['Ticker', 'Date', 'Open', 'High', 'Low', 'Close', 'Adj Close', 'Volume',\n",
       "       'S&P 500'],\n",
       "      dtype='object')"
      ]
     },
     "execution_count": 47,
     "metadata": {},
     "output_type": "execute_result"
    }
   ],
   "source": [
    "df_dirty.columns"
   ]
  },
  {
   "cell_type": "markdown",
   "metadata": {},
   "source": [
    "##### Get an overview about the data  with  'info()' and 'describe()':"
   ]
  },
  {
   "cell_type": "code",
   "execution_count": 48,
   "metadata": {},
   "outputs": [
    {
     "name": "stdout",
     "output_type": "stream",
     "text": [
      "<class 'pandas.core.frame.DataFrame'>\n",
      "RangeIndex: 205446 entries, 0 to 205445\n",
      "Data columns (total 9 columns):\n",
      " #   Column     Non-Null Count   Dtype  \n",
      "---  ------     --------------   -----  \n",
      " 0   Ticker     205445 non-null  object \n",
      " 1   Date       205445 non-null  object \n",
      " 2   Open       205446 non-null  float64\n",
      " 3   High       205446 non-null  float64\n",
      " 4   Low        205445 non-null  float64\n",
      " 5   Close      205445 non-null  float64\n",
      " 6   Adj Close  205446 non-null  float64\n",
      " 7   Volume     205445 non-null  float64\n",
      " 8   S&P 500    205446 non-null  object \n",
      "dtypes: float64(6), object(3)\n",
      "memory usage: 14.1+ MB\n"
     ]
    }
   ],
   "source": [
    "# Get dataframe information\n",
    "df_dirty.info()"
   ]
  },
  {
   "cell_type": "code",
   "execution_count": 49,
   "metadata": {},
   "outputs": [
    {
     "data": {
      "text/html": [
       "<div>\n",
       "<style scoped>\n",
       "    .dataframe tbody tr th:only-of-type {\n",
       "        vertical-align: middle;\n",
       "    }\n",
       "\n",
       "    .dataframe tbody tr th {\n",
       "        vertical-align: top;\n",
       "    }\n",
       "\n",
       "    .dataframe thead th {\n",
       "        text-align: right;\n",
       "    }\n",
       "</style>\n",
       "<table border=\"1\" class=\"dataframe\">\n",
       "  <thead>\n",
       "    <tr style=\"text-align: right;\">\n",
       "      <th></th>\n",
       "      <th>Open</th>\n",
       "      <th>High</th>\n",
       "      <th>Low</th>\n",
       "      <th>Close</th>\n",
       "      <th>Adj Close</th>\n",
       "      <th>Volume</th>\n",
       "    </tr>\n",
       "  </thead>\n",
       "  <tbody>\n",
       "    <tr>\n",
       "      <th>count</th>\n",
       "      <td>205446.000000</td>\n",
       "      <td>205446.000000</td>\n",
       "      <td>205445.000000</td>\n",
       "      <td>205445.000000</td>\n",
       "      <td>205446.000000</td>\n",
       "      <td>2.054450e+05</td>\n",
       "    </tr>\n",
       "    <tr>\n",
       "      <th>mean</th>\n",
       "      <td>137.804911</td>\n",
       "      <td>139.631695</td>\n",
       "      <td>135.932692</td>\n",
       "      <td>137.902172</td>\n",
       "      <td>137.255049</td>\n",
       "      <td>4.833037e+06</td>\n",
       "    </tr>\n",
       "    <tr>\n",
       "      <th>std</th>\n",
       "      <td>272.528547</td>\n",
       "      <td>275.618922</td>\n",
       "      <td>269.429938</td>\n",
       "      <td>274.363992</td>\n",
       "      <td>272.536991</td>\n",
       "      <td>1.422336e+07</td>\n",
       "    </tr>\n",
       "    <tr>\n",
       "      <th>min</th>\n",
       "      <td>0.340000</td>\n",
       "      <td>0.360000</td>\n",
       "      <td>0.330000</td>\n",
       "      <td>0.340000</td>\n",
       "      <td>0.340000</td>\n",
       "      <td>0.000000e+00</td>\n",
       "    </tr>\n",
       "    <tr>\n",
       "      <th>25%</th>\n",
       "      <td>35.450001</td>\n",
       "      <td>36.119999</td>\n",
       "      <td>34.790001</td>\n",
       "      <td>35.459999</td>\n",
       "      <td>35.169998</td>\n",
       "      <td>7.334000e+05</td>\n",
       "    </tr>\n",
       "    <tr>\n",
       "      <th>50%</th>\n",
       "      <td>73.540001</td>\n",
       "      <td>74.645000</td>\n",
       "      <td>72.419998</td>\n",
       "      <td>73.570000</td>\n",
       "      <td>73.025166</td>\n",
       "      <td>1.672200e+06</td>\n",
       "    </tr>\n",
       "    <tr>\n",
       "      <th>75%</th>\n",
       "      <td>153.210007</td>\n",
       "      <td>155.407501</td>\n",
       "      <td>150.910004</td>\n",
       "      <td>153.179993</td>\n",
       "      <td>152.132545</td>\n",
       "      <td>4.175100e+06</td>\n",
       "    </tr>\n",
       "    <tr>\n",
       "      <th>max</th>\n",
       "      <td>5320.000000</td>\n",
       "      <td>5332.080078</td>\n",
       "      <td>5242.089844</td>\n",
       "      <td>10097.140000</td>\n",
       "      <td>5313.569824</td>\n",
       "      <td>1.222342e+09</td>\n",
       "    </tr>\n",
       "  </tbody>\n",
       "</table>\n",
       "</div>"
      ],
      "text/plain": [
       "                Open           High            Low          Close  \\\n",
       "count  205446.000000  205446.000000  205445.000000  205445.000000   \n",
       "mean      137.804911     139.631695     135.932692     137.902172   \n",
       "std       272.528547     275.618922     269.429938     274.363992   \n",
       "min         0.340000       0.360000       0.330000       0.340000   \n",
       "25%        35.450001      36.119999      34.790001      35.459999   \n",
       "50%        73.540001      74.645000      72.419998      73.570000   \n",
       "75%       153.210007     155.407501     150.910004     153.179993   \n",
       "max      5320.000000    5332.080078    5242.089844   10097.140000   \n",
       "\n",
       "           Adj Close        Volume  \n",
       "count  205446.000000  2.054450e+05  \n",
       "mean      137.255049  4.833037e+06  \n",
       "std       272.536991  1.422336e+07  \n",
       "min         0.340000  0.000000e+00  \n",
       "25%        35.169998  7.334000e+05  \n",
       "50%        73.025166  1.672200e+06  \n",
       "75%       152.132545  4.175100e+06  \n",
       "max      5313.569824  1.222342e+09  "
      ]
     },
     "execution_count": 49,
     "metadata": {},
     "output_type": "execute_result"
    }
   ],
   "source": [
    "# Get the statistic overview of the dataframe\n",
    "df_dirty.describe()"
   ]
  },
  {
   "cell_type": "markdown",
   "metadata": {},
   "source": [
    "##### 3.3 Checking for missing data\n",
    "\n",
    "The first thing before cleaning is to check for any missing values. This can easily be done by using the *isnull ()* or *isna ()* function paired with the *sum()* function.\n"
   ]
  },
  {
   "cell_type": "code",
   "execution_count": 50,
   "metadata": {},
   "outputs": [
    {
     "data": {
      "text/plain": [
       "Ticker       1\n",
       "Date         1\n",
       "Open         0\n",
       "High         0\n",
       "Low          1\n",
       "Close        1\n",
       "Adj Close    0\n",
       "Volume       1\n",
       "S&P 500      0\n",
       "dtype: int64"
      ]
     },
     "execution_count": 50,
     "metadata": {},
     "output_type": "execute_result"
    }
   ],
   "source": [
    "# Checking for missing values\n",
    "# df_dirty.isnull().sum()\n",
    "df_dirty.isna().sum()"
   ]
  },
  {
   "cell_type": "markdown",
   "metadata": {},
   "source": [
    "From the output that we have 5 null values in columns 'Ticker', 'Date', 'Low, 'Close', and 'Volume'. "
   ]
  },
  {
   "cell_type": "code",
   "execution_count": 51,
   "metadata": {},
   "outputs": [
    {
     "data": {
      "image/png": "[encoded data removed]",
      "text/plain": [
       "<Figure size 1728x720 with 3 Axes>"
      ]
     },
     "metadata": {
      "needs_background": "light"
     },
     "output_type": "display_data"
    }
   ],
   "source": [
    "# Visualize missingness pattern\n",
    "import missingno as msno\n",
    "msno.bar(df_dirty)\n",
    "plt.show()"
   ]
  },
  {
   "cell_type": "markdown",
   "metadata": {},
   "source": [
    "There are many ways to treat missing values. However, in this project, I prefer to drop them because they are made manually.\n",
    "This method is called the listwise deletion technique."
   ]
  },
  {
   "cell_type": "code",
   "execution_count": 52,
   "metadata": {},
   "outputs": [
    {
     "data": {
      "text/plain": [
       "205446"
      ]
     },
     "execution_count": 52,
     "metadata": {},
     "output_type": "execute_result"
    }
   ],
   "source": [
    "len(df_dirty)"
   ]
  },
  {
   "cell_type": "code",
   "execution_count": 53,
   "metadata": {},
   "outputs": [],
   "source": [
    "# Delete all the missing rows of data\n",
    "\n",
    "df_dirty= df_dirty.dropna()"
   ]
  },
  {
   "cell_type": "code",
   "execution_count": 54,
   "metadata": {},
   "outputs": [
    {
     "data": {
      "text/plain": [
       "205441"
      ]
     },
     "execution_count": 54,
     "metadata": {},
     "output_type": "execute_result"
    }
   ],
   "source": [
    "len(df_dirty)"
   ]
  },
  {
   "cell_type": "markdown",
   "metadata": {},
   "source": [
    "##### 3.4 Checking duplicated values"
   ]
  },
  {
   "cell_type": "code",
   "execution_count": 55,
   "metadata": {
    "scrolled": true
   },
   "outputs": [
    {
     "data": {
      "text/html": [
       "<div>\n",
       "<style scoped>\n",
       "    .dataframe tbody tr th:only-of-type {\n",
       "        vertical-align: middle;\n",
       "    }\n",
       "\n",
       "    .dataframe tbody tr th {\n",
       "        vertical-align: top;\n",
       "    }\n",
       "\n",
       "    .dataframe thead th {\n",
       "        text-align: right;\n",
       "    }\n",
       "</style>\n",
       "<table border=\"1\" class=\"dataframe\">\n",
       "  <thead>\n",
       "    <tr style=\"text-align: right;\">\n",
       "      <th></th>\n",
       "      <th>Ticker</th>\n",
       "      <th>Date</th>\n",
       "      <th>Open</th>\n",
       "      <th>High</th>\n",
       "      <th>Low</th>\n",
       "      <th>Close</th>\n",
       "      <th>Adj Close</th>\n",
       "      <th>Volume</th>\n",
       "      <th>S&amp;P 500</th>\n",
       "    </tr>\n",
       "  </thead>\n",
       "  <tbody>\n",
       "    <tr>\n",
       "      <th>205422</th>\n",
       "      <td>SPY</td>\n",
       "      <td>10/15/2021</td>\n",
       "      <td>444.750000</td>\n",
       "      <td>446.260010</td>\n",
       "      <td>444.089996</td>\n",
       "      <td>445.869995</td>\n",
       "      <td>445.869995</td>\n",
       "      <td>66226800.0</td>\n",
       "      <td>SPDR S&amp;P 500 Trust</td>\n",
       "    </tr>\n",
       "    <tr>\n",
       "      <th>205423</th>\n",
       "      <td>SPY</td>\n",
       "      <td>10/18/2021</td>\n",
       "      <td>443.970001</td>\n",
       "      <td>447.549988</td>\n",
       "      <td>443.269989</td>\n",
       "      <td>447.190002</td>\n",
       "      <td>447.190002</td>\n",
       "      <td>62213200.0</td>\n",
       "      <td>SPDR S&amp;P 500 Trust</td>\n",
       "    </tr>\n",
       "    <tr>\n",
       "      <th>205424</th>\n",
       "      <td>SPY</td>\n",
       "      <td>10/19/2021</td>\n",
       "      <td>448.920013</td>\n",
       "      <td>450.709992</td>\n",
       "      <td>448.269989</td>\n",
       "      <td>450.640015</td>\n",
       "      <td>450.640015</td>\n",
       "      <td>46996800.0</td>\n",
       "      <td>SPDR S&amp;P 500 Trust</td>\n",
       "    </tr>\n",
       "    <tr>\n",
       "      <th>205425</th>\n",
       "      <td>SPY</td>\n",
       "      <td>10/20/2021</td>\n",
       "      <td>451.130005</td>\n",
       "      <td>452.730011</td>\n",
       "      <td>451.010010</td>\n",
       "      <td>452.410004</td>\n",
       "      <td>452.410004</td>\n",
       "      <td>49571600.0</td>\n",
       "      <td>SPDR S&amp;P 500 Trust</td>\n",
       "    </tr>\n",
       "    <tr>\n",
       "      <th>205426</th>\n",
       "      <td>SPY</td>\n",
       "      <td>10/21/2021</td>\n",
       "      <td>451.769989</td>\n",
       "      <td>453.829987</td>\n",
       "      <td>451.309998</td>\n",
       "      <td>453.589996</td>\n",
       "      <td>453.589996</td>\n",
       "      <td>41305400.0</td>\n",
       "      <td>SPDR S&amp;P 500 Trust</td>\n",
       "    </tr>\n",
       "    <tr>\n",
       "      <th>205427</th>\n",
       "      <td>SPY</td>\n",
       "      <td>10/22/2021</td>\n",
       "      <td>453.130005</td>\n",
       "      <td>454.670013</td>\n",
       "      <td>451.049988</td>\n",
       "      <td>453.119995</td>\n",
       "      <td>453.119995</td>\n",
       "      <td>58845100.0</td>\n",
       "      <td>SPDR S&amp;P 500 Trust</td>\n",
       "    </tr>\n",
       "    <tr>\n",
       "      <th>205428</th>\n",
       "      <td>SPY</td>\n",
       "      <td>10/25/2021</td>\n",
       "      <td>454.279999</td>\n",
       "      <td>455.899994</td>\n",
       "      <td>452.390015</td>\n",
       "      <td>455.549988</td>\n",
       "      <td>455.549988</td>\n",
       "      <td>45214500.0</td>\n",
       "      <td>SPDR S&amp;P 500 Trust</td>\n",
       "    </tr>\n",
       "    <tr>\n",
       "      <th>205429</th>\n",
       "      <td>SPY</td>\n",
       "      <td>10/26/2021</td>\n",
       "      <td>457.200012</td>\n",
       "      <td>458.489990</td>\n",
       "      <td>455.559998</td>\n",
       "      <td>455.959992</td>\n",
       "      <td>455.959992</td>\n",
       "      <td>56075100.0</td>\n",
       "      <td>SPDR S&amp;P 500 Trust</td>\n",
       "    </tr>\n",
       "    <tr>\n",
       "      <th>205430</th>\n",
       "      <td>SPY</td>\n",
       "      <td>10/27/2021</td>\n",
       "      <td>456.450012</td>\n",
       "      <td>457.160004</td>\n",
       "      <td>453.859985</td>\n",
       "      <td>453.940002</td>\n",
       "      <td>453.940002</td>\n",
       "      <td>72438000.0</td>\n",
       "      <td>SPDR S&amp;P 500 Trust</td>\n",
       "    </tr>\n",
       "    <tr>\n",
       "      <th>205431</th>\n",
       "      <td>SPY</td>\n",
       "      <td>10/28/2021</td>\n",
       "      <td>455.459992</td>\n",
       "      <td>458.399994</td>\n",
       "      <td>455.450012</td>\n",
       "      <td>458.320007</td>\n",
       "      <td>458.320007</td>\n",
       "      <td>51437900.0</td>\n",
       "      <td>SPDR S&amp;P 500 Trust</td>\n",
       "    </tr>\n",
       "    <tr>\n",
       "      <th>205432</th>\n",
       "      <td>SPY</td>\n",
       "      <td>10/29/2021</td>\n",
       "      <td>455.869995</td>\n",
       "      <td>459.559998</td>\n",
       "      <td>455.559998</td>\n",
       "      <td>459.250000</td>\n",
       "      <td>459.250000</td>\n",
       "      <td>70108200.0</td>\n",
       "      <td>SPDR S&amp;P 500 Trust</td>\n",
       "    </tr>\n",
       "  </tbody>\n",
       "</table>\n",
       "</div>"
      ],
      "text/plain": [
       "       Ticker        Date        Open        High         Low       Close  \\\n",
       "205422    SPY  10/15/2021  444.750000  446.260010  444.089996  445.869995   \n",
       "205423    SPY  10/18/2021  443.970001  447.549988  443.269989  447.190002   \n",
       "205424    SPY  10/19/2021  448.920013  450.709992  448.269989  450.640015   \n",
       "205425    SPY  10/20/2021  451.130005  452.730011  451.010010  452.410004   \n",
       "205426    SPY  10/21/2021  451.769989  453.829987  451.309998  453.589996   \n",
       "205427    SPY  10/22/2021  453.130005  454.670013  451.049988  453.119995   \n",
       "205428    SPY  10/25/2021  454.279999  455.899994  452.390015  455.549988   \n",
       "205429    SPY  10/26/2021  457.200012  458.489990  455.559998  455.959992   \n",
       "205430    SPY  10/27/2021  456.450012  457.160004  453.859985  453.940002   \n",
       "205431    SPY  10/28/2021  455.459992  458.399994  455.450012  458.320007   \n",
       "205432    SPY  10/29/2021  455.869995  459.559998  455.559998  459.250000   \n",
       "\n",
       "         Adj Close      Volume             S&P 500  \n",
       "205422  445.869995  66226800.0  SPDR S&P 500 Trust  \n",
       "205423  447.190002  62213200.0  SPDR S&P 500 Trust  \n",
       "205424  450.640015  46996800.0  SPDR S&P 500 Trust  \n",
       "205425  452.410004  49571600.0  SPDR S&P 500 Trust  \n",
       "205426  453.589996  41305400.0  SPDR S&P 500 Trust  \n",
       "205427  453.119995  58845100.0  SPDR S&P 500 Trust  \n",
       "205428  455.549988  45214500.0  SPDR S&P 500 Trust  \n",
       "205429  455.959992  56075100.0  SPDR S&P 500 Trust  \n",
       "205430  453.940002  72438000.0  SPDR S&P 500 Trust  \n",
       "205431  458.320007  51437900.0  SPDR S&P 500 Trust  \n",
       "205432  459.250000  70108200.0  SPDR S&P 500 Trust  "
      ]
     },
     "execution_count": 55,
     "metadata": {},
     "output_type": "execute_result"
    }
   ],
   "source": [
    "# Checcking any duplicates in the dataframe\n",
    "duplicates=df_dirty.duplicated()\n",
    "df_dirty[duplicates].sort_values(by='S&P 500')\n",
    "\n",
    "# Result shows that there are duplicated values as below"
   ]
  },
  {
   "cell_type": "code",
   "execution_count": 56,
   "metadata": {},
   "outputs": [
    {
     "data": {
      "text/plain": [
       "205441"
      ]
     },
     "execution_count": 56,
     "metadata": {},
     "output_type": "execute_result"
    }
   ],
   "source": [
    "# Get the number of rows ...\n",
    "len(df_dirty)"
   ]
  },
  {
   "cell_type": "code",
   "execution_count": 57,
   "metadata": {},
   "outputs": [],
   "source": [
    "# Drop complete duplicates\n",
    "\n",
    "df_dirty=df_dirty.drop_duplicates()"
   ]
  },
  {
   "cell_type": "code",
   "execution_count": 58,
   "metadata": {},
   "outputs": [
    {
     "data": {
      "text/plain": [
       "205430"
      ]
     },
     "execution_count": 58,
     "metadata": {},
     "output_type": "execute_result"
    }
   ],
   "source": [
    "# Check once more time the number of rows\n",
    "len(df_dirty)"
   ]
  },
  {
   "cell_type": "markdown",
   "metadata": {},
   "source": [
    "##### 3.5 Checking any outliers"
   ]
  },
  {
   "cell_type": "markdown",
   "metadata": {},
   "source": [
    "Outliers are data that is distinctively different from other observations. They could be real outliers or mistakes.\n",
    "\n",
    "We can use a histogram or box plot to detect outliers."
   ]
  },
  {
   "cell_type": "code",
   "execution_count": 59,
   "metadata": {
    "scrolled": true
   },
   "outputs": [
    {
     "data": {
      "text/html": [
       "<div>\n",
       "<style scoped>\n",
       "    .dataframe tbody tr th:only-of-type {\n",
       "        vertical-align: middle;\n",
       "    }\n",
       "\n",
       "    .dataframe tbody tr th {\n",
       "        vertical-align: top;\n",
       "    }\n",
       "\n",
       "    .dataframe thead th {\n",
       "        text-align: right;\n",
       "    }\n",
       "</style>\n",
       "<table border=\"1\" class=\"dataframe\">\n",
       "  <thead>\n",
       "    <tr style=\"text-align: right;\">\n",
       "      <th></th>\n",
       "      <th>Open</th>\n",
       "      <th>High</th>\n",
       "      <th>Low</th>\n",
       "      <th>Close</th>\n",
       "      <th>Adj Close</th>\n",
       "      <th>Volume</th>\n",
       "    </tr>\n",
       "  </thead>\n",
       "  <tbody>\n",
       "    <tr>\n",
       "      <th>count</th>\n",
       "      <td>205430.000000</td>\n",
       "      <td>205430.000000</td>\n",
       "      <td>205430.000000</td>\n",
       "      <td>205430.000000</td>\n",
       "      <td>205430.000000</td>\n",
       "      <td>2.054300e+05</td>\n",
       "    </tr>\n",
       "    <tr>\n",
       "      <th>mean</th>\n",
       "      <td>137.786830</td>\n",
       "      <td>139.613598</td>\n",
       "      <td>135.914784</td>\n",
       "      <td>137.884322</td>\n",
       "      <td>137.236925</td>\n",
       "      <td>4.830329e+06</td>\n",
       "    </tr>\n",
       "    <tr>\n",
       "      <th>std</th>\n",
       "      <td>272.529334</td>\n",
       "      <td>275.619926</td>\n",
       "      <td>269.429799</td>\n",
       "      <td>274.364214</td>\n",
       "      <td>272.537681</td>\n",
       "      <td>1.421868e+07</td>\n",
       "    </tr>\n",
       "    <tr>\n",
       "      <th>min</th>\n",
       "      <td>0.340000</td>\n",
       "      <td>0.360000</td>\n",
       "      <td>0.330000</td>\n",
       "      <td>0.340000</td>\n",
       "      <td>0.340000</td>\n",
       "      <td>0.000000e+00</td>\n",
       "    </tr>\n",
       "    <tr>\n",
       "      <th>25%</th>\n",
       "      <td>35.450001</td>\n",
       "      <td>36.119999</td>\n",
       "      <td>34.782608</td>\n",
       "      <td>35.459999</td>\n",
       "      <td>35.167416</td>\n",
       "      <td>7.334000e+05</td>\n",
       "    </tr>\n",
       "    <tr>\n",
       "      <th>50%</th>\n",
       "      <td>73.529999</td>\n",
       "      <td>74.639999</td>\n",
       "      <td>72.407291</td>\n",
       "      <td>73.559998</td>\n",
       "      <td>73.016285</td>\n",
       "      <td>1.672100e+06</td>\n",
       "    </tr>\n",
       "    <tr>\n",
       "      <th>75%</th>\n",
       "      <td>153.177494</td>\n",
       "      <td>155.377502</td>\n",
       "      <td>150.869995</td>\n",
       "      <td>153.157501</td>\n",
       "      <td>152.083214</td>\n",
       "      <td>4.174575e+06</td>\n",
       "    </tr>\n",
       "    <tr>\n",
       "      <th>max</th>\n",
       "      <td>5320.000000</td>\n",
       "      <td>5332.080078</td>\n",
       "      <td>5242.089844</td>\n",
       "      <td>10097.140000</td>\n",
       "      <td>5313.569824</td>\n",
       "      <td>1.222342e+09</td>\n",
       "    </tr>\n",
       "  </tbody>\n",
       "</table>\n",
       "</div>"
      ],
      "text/plain": [
       "                Open           High            Low          Close  \\\n",
       "count  205430.000000  205430.000000  205430.000000  205430.000000   \n",
       "mean      137.786830     139.613598     135.914784     137.884322   \n",
       "std       272.529334     275.619926     269.429799     274.364214   \n",
       "min         0.340000       0.360000       0.330000       0.340000   \n",
       "25%        35.450001      36.119999      34.782608      35.459999   \n",
       "50%        73.529999      74.639999      72.407291      73.559998   \n",
       "75%       153.177494     155.377502     150.869995     153.157501   \n",
       "max      5320.000000    5332.080078    5242.089844   10097.140000   \n",
       "\n",
       "           Adj Close        Volume  \n",
       "count  205430.000000  2.054300e+05  \n",
       "mean      137.236925  4.830329e+06  \n",
       "std       272.537681  1.421868e+07  \n",
       "min         0.340000  0.000000e+00  \n",
       "25%        35.167416  7.334000e+05  \n",
       "50%        73.016285  1.672100e+06  \n",
       "75%       152.083214  4.174575e+06  \n",
       "max      5313.569824  1.222342e+09  "
      ]
     },
     "execution_count": 59,
     "metadata": {},
     "output_type": "execute_result"
    }
   ],
   "source": [
    "df_dirty.describe()"
   ]
  },
  {
   "cell_type": "code",
   "execution_count": 60,
   "metadata": {},
   "outputs": [
    {
     "data": {
      "text/plain": [
       "<AxesSubplot:>"
      ]
     },
     "execution_count": 60,
     "metadata": {},
     "output_type": "execute_result"
    },
    {
     "data": {
      "image/png": "[encoded data removed]",
      "text/plain": [
       "<Figure size 432x288 with 1 Axes>"
      ]
     },
     "metadata": {
      "needs_background": "light"
     },
     "output_type": "display_data"
    }
   ],
   "source": [
    "# Make the histogram of feature 'Close'\n",
    "df_dirty['Close'].hist(bins=200)"
   ]
  },
  {
   "cell_type": "markdown",
   "metadata": {},
   "source": [
    "The data looks highly skewed with the possible existence of outliers. To study the feature closer, let’s make a box plot:"
   ]
  },
  {
   "cell_type": "code",
   "execution_count": 61,
   "metadata": {},
   "outputs": [
    {
     "data": {
      "text/plain": [
       "<AxesSubplot:>"
      ]
     },
     "execution_count": 61,
     "metadata": {},
     "output_type": "execute_result"
    },
    {
     "data": {
      "image/png": "[encoded data removed]",
      "text/plain": [
       "<Figure size 432x288 with 1 Axes>"
      ]
     },
     "metadata": {
      "needs_background": "light"
     },
     "output_type": "display_data"
    }
   ],
   "source": [
    "# Make the box plot to have a better look\n",
    "df_dirty.boxplot(column=['Close'])"
   ]
  },
  {
   "cell_type": "markdown",
   "metadata": {},
   "source": [
    "In this plot, we can see there is an outlier at a value of over 10000. However, the outliers could be too distinct that the box plot can’t visualize them. Instead, we can look at their descriptive statistics:"
   ]
  },
  {
   "cell_type": "code",
   "execution_count": 62,
   "metadata": {},
   "outputs": [
    {
     "data": {
      "text/plain": [
       "count    205430.000000\n",
       "mean        137.884322\n",
       "std         274.364214\n",
       "min           0.340000\n",
       "25%          35.459999\n",
       "50%          73.559998\n",
       "75%         153.157501\n",
       "max       10097.140000\n",
       "Name: Close, dtype: float64"
      ]
     },
     "execution_count": 62,
     "metadata": {},
     "output_type": "execute_result"
    }
   ],
   "source": [
    "df_dirty['Close'].describe()"
   ]
  },
  {
   "cell_type": "markdown",
   "metadata": {},
   "source": [
    "As we can see that the maximum value is 10097, while the 75% quartile is only 153. The 10097 value is an outlier."
   ]
  },
  {
   "cell_type": "code",
   "execution_count": 63,
   "metadata": {},
   "outputs": [
    {
     "data": {
      "text/html": [
       "<div>\n",
       "<style scoped>\n",
       "    .dataframe tbody tr th:only-of-type {\n",
       "        vertical-align: middle;\n",
       "    }\n",
       "\n",
       "    .dataframe tbody tr th {\n",
       "        vertical-align: top;\n",
       "    }\n",
       "\n",
       "    .dataframe thead th {\n",
       "        text-align: right;\n",
       "    }\n",
       "</style>\n",
       "<table border=\"1\" class=\"dataframe\">\n",
       "  <thead>\n",
       "    <tr style=\"text-align: right;\">\n",
       "      <th></th>\n",
       "      <th>Ticker</th>\n",
       "      <th>Date</th>\n",
       "      <th>Open</th>\n",
       "      <th>High</th>\n",
       "      <th>Low</th>\n",
       "      <th>Close</th>\n",
       "      <th>Adj Close</th>\n",
       "      <th>Volume</th>\n",
       "      <th>S&amp;P 500</th>\n",
       "    </tr>\n",
       "  </thead>\n",
       "  <tbody>\n",
       "    <tr>\n",
       "      <th>0</th>\n",
       "      <td>MMM</td>\n",
       "      <td>12/30/2020</td>\n",
       "      <td>173.880005</td>\n",
       "      <td>174.919998</td>\n",
       "      <td>173.380005</td>\n",
       "      <td>10074.11</td>\n",
       "      <td>168.753479</td>\n",
       "      <td>1419100.0</td>\n",
       "      <td>member</td>\n",
       "    </tr>\n",
       "    <tr>\n",
       "      <th>83</th>\n",
       "      <td>MMM</td>\n",
       "      <td>4/30/2021</td>\n",
       "      <td>197.660004</td>\n",
       "      <td>198.990005</td>\n",
       "      <td>196.130005</td>\n",
       "      <td>10097.14</td>\n",
       "      <td>192.649506</td>\n",
       "      <td>2507100.0</td>\n",
       "      <td>member</td>\n",
       "    </tr>\n",
       "  </tbody>\n",
       "</table>\n",
       "</div>"
      ],
      "text/plain": [
       "   Ticker        Date        Open        High         Low     Close  \\\n",
       "0     MMM  12/30/2020  173.880005  174.919998  173.380005  10074.11   \n",
       "83    MMM   4/30/2021  197.660004  198.990005  196.130005  10097.14   \n",
       "\n",
       "     Adj Close     Volume S&P 500  \n",
       "0   168.753479  1419100.0  member  \n",
       "83  192.649506  2507100.0  member  "
      ]
     },
     "execution_count": 63,
     "metadata": {},
     "output_type": "execute_result"
    }
   ],
   "source": [
    "outlier = df_dirty[df_dirty['Close'] > 10000]\n",
    "outlier"
   ]
  },
  {
   "cell_type": "markdown",
   "metadata": {},
   "source": [
    "It highly depends on the dataset and the goal of the project to determine the right solutions to handle outliers. However, in this project, I prefer to drop them because they are made manually. Then, select only 'Close' values smaller than 10000."
   ]
  },
  {
   "cell_type": "code",
   "execution_count": 64,
   "metadata": {},
   "outputs": [
    {
     "data": {
      "text/plain": [
       "205428"
      ]
     },
     "execution_count": 64,
     "metadata": {},
     "output_type": "execute_result"
    }
   ],
   "source": [
    "df_dirty = df_dirty[df_dirty['Close'] < 10000]\n",
    "len(df_dirty)"
   ]
  },
  {
   "cell_type": "code",
   "execution_count": null,
   "metadata": {},
   "outputs": [],
   "source": []
  },
  {
   "cell_type": "markdown",
   "metadata": {},
   "source": [
    "##### 3. 6 Checking data types"
   ]
  },
  {
   "cell_type": "markdown",
   "metadata": {},
   "source": [
    "Check the type of each columns to ensure the data is cleaned."
   ]
  },
  {
   "cell_type": "code",
   "execution_count": 65,
   "metadata": {},
   "outputs": [
    {
     "name": "stdout",
     "output_type": "stream",
     "text": [
      "<class 'pandas.core.frame.DataFrame'>\n",
      "Int64Index: 205428 entries, 1 to 205445\n",
      "Data columns (total 9 columns):\n",
      " #   Column     Non-Null Count   Dtype  \n",
      "---  ------     --------------   -----  \n",
      " 0   Ticker     205428 non-null  object \n",
      " 1   Date       205428 non-null  object \n",
      " 2   Open       205428 non-null  float64\n",
      " 3   High       205428 non-null  float64\n",
      " 4   Low        205428 non-null  float64\n",
      " 5   Close      205428 non-null  float64\n",
      " 6   Adj Close  205428 non-null  float64\n",
      " 7   Volume     205428 non-null  float64\n",
      " 8   S&P 500    205428 non-null  object \n",
      "dtypes: float64(6), object(3)\n",
      "memory usage: 15.7+ MB\n"
     ]
    }
   ],
   "source": [
    "# Checking data types of all columns\n",
    "df_dirty.info()"
   ]
  },
  {
   "cell_type": "markdown",
   "metadata": {},
   "source": [
    "Check column **Date**"
   ]
  },
  {
   "cell_type": "code",
   "execution_count": 66,
   "metadata": {},
   "outputs": [],
   "source": [
    "# Type of 'Date' is object so convert \"Date\" into datetime\n",
    "df_dirty['Date']=pd.to_datetime(df_dirty['Date'])"
   ]
  },
  {
   "cell_type": "code",
   "execution_count": 67,
   "metadata": {},
   "outputs": [],
   "source": [
    "# Assert that conversion happened\n",
    "assert df_dirty['Date'].dtype == 'datetime64[ns]'\n",
    "\n",
    "# No output means it passed"
   ]
  },
  {
   "cell_type": "markdown",
   "metadata": {},
   "source": [
    "##### 3. 7 Checking data range"
   ]
  },
  {
   "cell_type": "code",
   "execution_count": 68,
   "metadata": {},
   "outputs": [
    {
     "name": "stdout",
     "output_type": "stream",
     "text": [
      "<class 'pandas.core.frame.DataFrame'>\n",
      "Int64Index: 205428 entries, 1 to 205445\n",
      "Data columns (total 9 columns):\n",
      " #   Column     Non-Null Count   Dtype         \n",
      "---  ------     --------------   -----         \n",
      " 0   Ticker     205428 non-null  object        \n",
      " 1   Date       205428 non-null  datetime64[ns]\n",
      " 2   Open       205428 non-null  float64       \n",
      " 3   High       205428 non-null  float64       \n",
      " 4   Low        205428 non-null  float64       \n",
      " 5   Close      205428 non-null  float64       \n",
      " 6   Adj Close  205428 non-null  float64       \n",
      " 7   Volume     205428 non-null  float64       \n",
      " 8   S&P 500    205428 non-null  object        \n",
      "dtypes: datetime64[ns](1), float64(6), object(2)\n",
      "memory usage: 15.7+ MB\n"
     ]
    }
   ],
   "source": [
    "df_dirty.info()"
   ]
  },
  {
   "cell_type": "code",
   "execution_count": 69,
   "metadata": {},
   "outputs": [
    {
     "data": {
      "text/plain": [
       "Timestamp('2020-12-30 00:00:00')"
      ]
     },
     "execution_count": 69,
     "metadata": {},
     "output_type": "execute_result"
    }
   ],
   "source": [
    "df_dirty['Date'].min()"
   ]
  },
  {
   "cell_type": "code",
   "execution_count": 70,
   "metadata": {},
   "outputs": [
    {
     "data": {
      "text/plain": [
       "Timestamp('2022-04-13 00:00:00')"
      ]
     },
     "execution_count": 70,
     "metadata": {},
     "output_type": "execute_result"
    }
   ],
   "source": [
    "df_dirty['Date'].max()"
   ]
  },
  {
   "cell_type": "markdown",
   "metadata": {},
   "source": [
    "Because we only focus on values recorded until the last date of October 2021,\n",
    "we can drop values after November 2021"
   ]
  },
  {
   "cell_type": "code",
   "execution_count": 71,
   "metadata": {},
   "outputs": [
    {
     "data": {
      "text/html": [
       "<div>\n",
       "<style scoped>\n",
       "    .dataframe tbody tr th:only-of-type {\n",
       "        vertical-align: middle;\n",
       "    }\n",
       "\n",
       "    .dataframe tbody tr th {\n",
       "        vertical-align: top;\n",
       "    }\n",
       "\n",
       "    .dataframe thead th {\n",
       "        text-align: right;\n",
       "    }\n",
       "</style>\n",
       "<table border=\"1\" class=\"dataframe\">\n",
       "  <thead>\n",
       "    <tr style=\"text-align: right;\">\n",
       "      <th></th>\n",
       "      <th>Ticker</th>\n",
       "      <th>Date</th>\n",
       "      <th>Open</th>\n",
       "      <th>High</th>\n",
       "      <th>Low</th>\n",
       "      <th>Close</th>\n",
       "      <th>Adj Close</th>\n",
       "      <th>Volume</th>\n",
       "      <th>S&amp;P 500</th>\n",
       "    </tr>\n",
       "  </thead>\n",
       "  <tbody>\n",
       "    <tr>\n",
       "      <th>65</th>\n",
       "      <td>MMM</td>\n",
       "      <td>2022-04-06</td>\n",
       "      <td>195.000000</td>\n",
       "      <td>195.610001</td>\n",
       "      <td>193.990005</td>\n",
       "      <td>194.839996</td>\n",
       "      <td>190.401901</td>\n",
       "      <td>1472700.0</td>\n",
       "      <td>member</td>\n",
       "    </tr>\n",
       "    <tr>\n",
       "      <th>66</th>\n",
       "      <td>MMM</td>\n",
       "      <td>2022-04-07</td>\n",
       "      <td>194.160004</td>\n",
       "      <td>195.350006</td>\n",
       "      <td>193.919998</td>\n",
       "      <td>194.949997</td>\n",
       "      <td>190.509384</td>\n",
       "      <td>1501500.0</td>\n",
       "      <td>member</td>\n",
       "    </tr>\n",
       "    <tr>\n",
       "      <th>67</th>\n",
       "      <td>MMM</td>\n",
       "      <td>2022-04-08</td>\n",
       "      <td>194.419998</td>\n",
       "      <td>196.669998</td>\n",
       "      <td>194.029999</td>\n",
       "      <td>195.720001</td>\n",
       "      <td>191.261841</td>\n",
       "      <td>2391800.0</td>\n",
       "      <td>member</td>\n",
       "    </tr>\n",
       "    <tr>\n",
       "      <th>68</th>\n",
       "      <td>MMM</td>\n",
       "      <td>2022-04-09</td>\n",
       "      <td>196.059998</td>\n",
       "      <td>198.960007</td>\n",
       "      <td>196.059998</td>\n",
       "      <td>198.000000</td>\n",
       "      <td>193.489914</td>\n",
       "      <td>2159600.0</td>\n",
       "      <td>member</td>\n",
       "    </tr>\n",
       "    <tr>\n",
       "      <th>69</th>\n",
       "      <td>MMM</td>\n",
       "      <td>2022-04-12</td>\n",
       "      <td>198.199997</td>\n",
       "      <td>199.289993</td>\n",
       "      <td>197.059998</td>\n",
       "      <td>197.830002</td>\n",
       "      <td>193.323791</td>\n",
       "      <td>1682100.0</td>\n",
       "      <td>member</td>\n",
       "    </tr>\n",
       "    <tr>\n",
       "      <th>70</th>\n",
       "      <td>MMM</td>\n",
       "      <td>2022-04-13</td>\n",
       "      <td>196.009995</td>\n",
       "      <td>197.330002</td>\n",
       "      <td>195.369995</td>\n",
       "      <td>196.470001</td>\n",
       "      <td>191.994766</td>\n",
       "      <td>2259700.0</td>\n",
       "      <td>member</td>\n",
       "    </tr>\n",
       "  </tbody>\n",
       "</table>\n",
       "</div>"
      ],
      "text/plain": [
       "   Ticker       Date        Open        High         Low       Close  \\\n",
       "65    MMM 2022-04-06  195.000000  195.610001  193.990005  194.839996   \n",
       "66    MMM 2022-04-07  194.160004  195.350006  193.919998  194.949997   \n",
       "67    MMM 2022-04-08  194.419998  196.669998  194.029999  195.720001   \n",
       "68    MMM 2022-04-09  196.059998  198.960007  196.059998  198.000000   \n",
       "69    MMM 2022-04-12  198.199997  199.289993  197.059998  197.830002   \n",
       "70    MMM 2022-04-13  196.009995  197.330002  195.369995  196.470001   \n",
       "\n",
       "     Adj Close     Volume S&P 500  \n",
       "65  190.401901  1472700.0  member  \n",
       "66  190.509384  1501500.0  member  \n",
       "67  191.261841  2391800.0  member  \n",
       "68  193.489914  2159600.0  member  \n",
       "69  193.323791  1682100.0  member  \n",
       "70  191.994766  2259700.0  member  "
      ]
     },
     "execution_count": 71,
     "metadata": {},
     "output_type": "execute_result"
    }
   ],
   "source": [
    "# Get values out of time range\n",
    "df_dirty[df_dirty['Date'] > '2021-10-31']"
   ]
  },
  {
   "cell_type": "code",
   "execution_count": 72,
   "metadata": {},
   "outputs": [],
   "source": [
    "# Drop values using .drop()\n",
    "df_dirty.drop(df_dirty[df_dirty['Date'] > '2021-10-31'].index, inplace = True)"
   ]
  },
  {
   "cell_type": "code",
   "execution_count": 73,
   "metadata": {},
   "outputs": [
    {
     "data": {
      "text/plain": [
       "Timestamp('2021-10-29 00:00:00')"
      ]
     },
     "execution_count": 73,
     "metadata": {},
     "output_type": "execute_result"
    }
   ],
   "source": [
    "df_dirty['Date'].max()"
   ]
  },
  {
   "cell_type": "markdown",
   "metadata": {},
   "source": [
    "##### 3.8 Check value inconsistency"
   ]
  },
  {
   "cell_type": "code",
   "execution_count": 74,
   "metadata": {},
   "outputs": [
    {
     "data": {
      "text/plain": [
       "member                106458\n",
       "non-member             98745\n",
       "SPDR S&P 500 Trust       211\n",
       "MEMBER                     3\n",
       "NON-MEMBER                 3\n",
       "     member                1\n",
       "non*member                 1\n",
       "Name: S&P 500, dtype: int64"
      ]
     },
     "execution_count": 74,
     "metadata": {},
     "output_type": "execute_result"
    }
   ],
   "source": [
    "# Check value count of categorical variable\n",
    "df_dirty['S&P 500'].value_counts()"
   ]
  },
  {
   "cell_type": "markdown",
   "metadata": {},
   "source": [
    "There are 6 values of 'S&P 500' are caplitalized so we would like them to be in lowercase."
   ]
  },
  {
   "cell_type": "code",
   "execution_count": 75,
   "metadata": {},
   "outputs": [],
   "source": [
    "# Replace letters 'MEMBER' with 'member' and 'NON-MEMBER' with 'non-member'\n",
    "df_dirty['S&P 500'] = df_dirty['S&P 500'].str.replace(\"MEMBER\",\"member\")\n"
   ]
  },
  {
   "cell_type": "code",
   "execution_count": 76,
   "metadata": {},
   "outputs": [],
   "source": [
    "df_dirty['S&P 500'] = df_dirty['S&P 500'].str.replace(\"NON-member\",\"non-member\")"
   ]
  },
  {
   "cell_type": "code",
   "execution_count": 77,
   "metadata": {},
   "outputs": [],
   "source": [
    "# There is 1 value 'member' with some white spaces in front of it so\n",
    "# we should strip all spaces\n",
    "df_dirty['S&P 500'] = df_dirty['S&P 500'].str.strip()"
   ]
  },
  {
   "cell_type": "code",
   "execution_count": 78,
   "metadata": {},
   "outputs": [],
   "source": [
    "# There is 1 value 'non*member' with \"*\" instead of \"-\" so \n",
    "# we replace it\n",
    "df_dirty['S&P 500'] = df_dirty['S&P 500'].str.replace(\"*\",\"-\")"
   ]
  },
  {
   "cell_type": "code",
   "execution_count": 79,
   "metadata": {
    "scrolled": true
   },
   "outputs": [
    {
     "data": {
      "text/plain": [
       "member                106462\n",
       "non-member             98749\n",
       "SPDR S&P 500 Trust       211\n",
       "Name: S&P 500, dtype: int64"
      ]
     },
     "execution_count": 79,
     "metadata": {},
     "output_type": "execute_result"
    }
   ],
   "source": [
    "# Check the consistency again\n",
    "df_dirty['S&P 500'].value_counts()"
   ]
  },
  {
   "cell_type": "code",
   "execution_count": 80,
   "metadata": {
    "scrolled": true
   },
   "outputs": [
    {
     "name": "stdout",
     "output_type": "stream",
     "text": [
      "<class 'pandas.core.frame.DataFrame'>\n",
      "Int64Index: 205422 entries, 1 to 205445\n",
      "Data columns (total 9 columns):\n",
      " #   Column     Non-Null Count   Dtype         \n",
      "---  ------     --------------   -----         \n",
      " 0   Ticker     205422 non-null  object        \n",
      " 1   Date       205422 non-null  datetime64[ns]\n",
      " 2   Open       205422 non-null  float64       \n",
      " 3   High       205422 non-null  float64       \n",
      " 4   Low        205422 non-null  float64       \n",
      " 5   Close      205422 non-null  float64       \n",
      " 6   Adj Close  205422 non-null  float64       \n",
      " 7   Volume     205422 non-null  float64       \n",
      " 8   S&P 500    205422 non-null  object        \n",
      "dtypes: datetime64[ns](1), float64(6), object(2)\n",
      "memory usage: 15.7+ MB\n"
     ]
    }
   ],
   "source": [
    "df_dirty.info()"
   ]
  },
  {
   "cell_type": "code",
   "execution_count": 81,
   "metadata": {},
   "outputs": [
    {
     "data": {
      "text/html": [
       "<div>\n",
       "<style scoped>\n",
       "    .dataframe tbody tr th:only-of-type {\n",
       "        vertical-align: middle;\n",
       "    }\n",
       "\n",
       "    .dataframe tbody tr th {\n",
       "        vertical-align: top;\n",
       "    }\n",
       "\n",
       "    .dataframe thead th {\n",
       "        text-align: right;\n",
       "    }\n",
       "</style>\n",
       "<table border=\"1\" class=\"dataframe\">\n",
       "  <thead>\n",
       "    <tr style=\"text-align: right;\">\n",
       "      <th></th>\n",
       "      <th>Ticker</th>\n",
       "      <th>Date</th>\n",
       "      <th>Open</th>\n",
       "      <th>High</th>\n",
       "      <th>Low</th>\n",
       "      <th>Close</th>\n",
       "      <th>Adj Close</th>\n",
       "      <th>Volume</th>\n",
       "      <th>S&amp;P 500</th>\n",
       "    </tr>\n",
       "  </thead>\n",
       "  <tbody>\n",
       "    <tr>\n",
       "      <th>0</th>\n",
       "      <td>MMM</td>\n",
       "      <td>2020-12-30</td>\n",
       "      <td>173.880005</td>\n",
       "      <td>174.919998</td>\n",
       "      <td>173.380005</td>\n",
       "      <td>174.110001</td>\n",
       "      <td>168.753479</td>\n",
       "      <td>1419100</td>\n",
       "      <td>member</td>\n",
       "    </tr>\n",
       "    <tr>\n",
       "      <th>1</th>\n",
       "      <td>MMM</td>\n",
       "      <td>2020-12-31</td>\n",
       "      <td>174.119995</td>\n",
       "      <td>174.869995</td>\n",
       "      <td>173.179993</td>\n",
       "      <td>174.789993</td>\n",
       "      <td>169.412537</td>\n",
       "      <td>1841300</td>\n",
       "      <td>member</td>\n",
       "    </tr>\n",
       "    <tr>\n",
       "      <th>2</th>\n",
       "      <td>MMM</td>\n",
       "      <td>2021-01-04</td>\n",
       "      <td>175.000000</td>\n",
       "      <td>176.199997</td>\n",
       "      <td>170.550003</td>\n",
       "      <td>171.869995</td>\n",
       "      <td>166.582382</td>\n",
       "      <td>2996200</td>\n",
       "      <td>member</td>\n",
       "    </tr>\n",
       "    <tr>\n",
       "      <th>3</th>\n",
       "      <td>MMM</td>\n",
       "      <td>2021-01-05</td>\n",
       "      <td>172.009995</td>\n",
       "      <td>173.250000</td>\n",
       "      <td>170.649994</td>\n",
       "      <td>171.580002</td>\n",
       "      <td>166.301315</td>\n",
       "      <td>2295300</td>\n",
       "      <td>member</td>\n",
       "    </tr>\n",
       "    <tr>\n",
       "      <th>4</th>\n",
       "      <td>MMM</td>\n",
       "      <td>2021-01-06</td>\n",
       "      <td>172.720001</td>\n",
       "      <td>175.570007</td>\n",
       "      <td>172.039993</td>\n",
       "      <td>174.190002</td>\n",
       "      <td>168.831024</td>\n",
       "      <td>3346400</td>\n",
       "      <td>member</td>\n",
       "    </tr>\n",
       "  </tbody>\n",
       "</table>\n",
       "</div>"
      ],
      "text/plain": [
       "  Ticker        Date        Open        High         Low       Close  \\\n",
       "0    MMM  2020-12-30  173.880005  174.919998  173.380005  174.110001   \n",
       "1    MMM  2020-12-31  174.119995  174.869995  173.179993  174.789993   \n",
       "2    MMM  2021-01-04  175.000000  176.199997  170.550003  171.869995   \n",
       "3    MMM  2021-01-05  172.009995  173.250000  170.649994  171.580002   \n",
       "4    MMM  2021-01-06  172.720001  175.570007  172.039993  174.190002   \n",
       "\n",
       "    Adj Close   Volume S&P 500  \n",
       "0  168.753479  1419100  member  \n",
       "1  169.412537  1841300  member  \n",
       "2  166.582382  2996200  member  \n",
       "3  166.301315  2295300  member  \n",
       "4  168.831024  3346400  member  "
      ]
     },
     "execution_count": 81,
     "metadata": {},
     "output_type": "execute_result"
    }
   ],
   "source": [
    "df_stock_data.head()"
   ]
  },
  {
   "cell_type": "markdown",
   "metadata": {},
   "source": [
    "##### Save the cleaned file as an csv file for futher steps:"
   ]
  },
  {
   "cell_type": "code",
   "execution_count": 82,
   "metadata": {},
   "outputs": [],
   "source": [
    "# Write the cleaned data into a csv file:\n",
    "\n",
    "df_dirty.to_csv(\"../Tran_Dao_Data/Tran_Dao_StudC_stock_data_stage.csv\", index = False)"
   ]
  },
  {
   "cell_type": "markdown",
   "metadata": {},
   "source": [
    "### 4. Combine the data of student C with the data provided by student A"
   ]
  },
  {
   "cell_type": "markdown",
   "metadata": {},
   "source": [
    "To proceed for answering the research questions, a merged “master” file is created by combining the data of student C (*Tran_Dao_StudC_stock_data_stage.csv*) and student A(*Biber_Martin_StudentA_tickers_sp500_stage.csv* and *Biber_Martin_StudentA_sp500_ESG_stage*). "
   ]
  },
  {
   "cell_type": "markdown",
   "metadata": {},
   "source": [
    "First and foremost, the data of student C and student A are combined to answer initial parts of the question. Student A provided 2 datasets including: \n",
    "- Data about sectors of stocks\n",
    "- Data about ESG scores of stocks"
   ]
  },
  {
   "cell_type": "code",
   "execution_count": 83,
   "metadata": {
    "scrolled": true
   },
   "outputs": [
    {
     "data": {
      "text/html": [
       "<div>\n",
       "<style scoped>\n",
       "    .dataframe tbody tr th:only-of-type {\n",
       "        vertical-align: middle;\n",
       "    }\n",
       "\n",
       "    .dataframe tbody tr th {\n",
       "        vertical-align: top;\n",
       "    }\n",
       "\n",
       "    .dataframe thead th {\n",
       "        text-align: right;\n",
       "    }\n",
       "</style>\n",
       "<table border=\"1\" class=\"dataframe\">\n",
       "  <thead>\n",
       "    <tr style=\"text-align: right;\">\n",
       "      <th></th>\n",
       "      <th>Ticker</th>\n",
       "      <th>Date</th>\n",
       "      <th>Open</th>\n",
       "      <th>High</th>\n",
       "      <th>Low</th>\n",
       "      <th>Close</th>\n",
       "      <th>Adj Close</th>\n",
       "      <th>Volume</th>\n",
       "      <th>S&amp;P 500</th>\n",
       "    </tr>\n",
       "  </thead>\n",
       "  <tbody>\n",
       "    <tr>\n",
       "      <th>0</th>\n",
       "      <td>MMM</td>\n",
       "      <td>2020-12-31</td>\n",
       "      <td>174.119995</td>\n",
       "      <td>174.869995</td>\n",
       "      <td>173.179993</td>\n",
       "      <td>174.789993</td>\n",
       "      <td>169.412537</td>\n",
       "      <td>1841300.0</td>\n",
       "      <td>member</td>\n",
       "    </tr>\n",
       "    <tr>\n",
       "      <th>1</th>\n",
       "      <td>MMM</td>\n",
       "      <td>2021-01-04</td>\n",
       "      <td>175.000000</td>\n",
       "      <td>176.199997</td>\n",
       "      <td>170.550003</td>\n",
       "      <td>171.869995</td>\n",
       "      <td>166.582382</td>\n",
       "      <td>2996200.0</td>\n",
       "      <td>member</td>\n",
       "    </tr>\n",
       "    <tr>\n",
       "      <th>2</th>\n",
       "      <td>MMM</td>\n",
       "      <td>2021-01-05</td>\n",
       "      <td>172.009995</td>\n",
       "      <td>173.250000</td>\n",
       "      <td>170.649994</td>\n",
       "      <td>171.580002</td>\n",
       "      <td>166.301315</td>\n",
       "      <td>2295300.0</td>\n",
       "      <td>member</td>\n",
       "    </tr>\n",
       "    <tr>\n",
       "      <th>3</th>\n",
       "      <td>MMM</td>\n",
       "      <td>2021-01-06</td>\n",
       "      <td>172.720001</td>\n",
       "      <td>175.570007</td>\n",
       "      <td>172.039993</td>\n",
       "      <td>174.190002</td>\n",
       "      <td>168.831024</td>\n",
       "      <td>3346400.0</td>\n",
       "      <td>member</td>\n",
       "    </tr>\n",
       "    <tr>\n",
       "      <th>4</th>\n",
       "      <td>MMM</td>\n",
       "      <td>2021-01-07</td>\n",
       "      <td>171.559998</td>\n",
       "      <td>173.460007</td>\n",
       "      <td>166.160004</td>\n",
       "      <td>169.720001</td>\n",
       "      <td>164.498520</td>\n",
       "      <td>5863400.0</td>\n",
       "      <td>member</td>\n",
       "    </tr>\n",
       "  </tbody>\n",
       "</table>\n",
       "</div>"
      ],
      "text/plain": [
       "  Ticker        Date        Open        High         Low       Close  \\\n",
       "0    MMM  2020-12-31  174.119995  174.869995  173.179993  174.789993   \n",
       "1    MMM  2021-01-04  175.000000  176.199997  170.550003  171.869995   \n",
       "2    MMM  2021-01-05  172.009995  173.250000  170.649994  171.580002   \n",
       "3    MMM  2021-01-06  172.720001  175.570007  172.039993  174.190002   \n",
       "4    MMM  2021-01-07  171.559998  173.460007  166.160004  169.720001   \n",
       "\n",
       "    Adj Close     Volume S&P 500  \n",
       "0  169.412537  1841300.0  member  \n",
       "1  166.582382  2996200.0  member  \n",
       "2  166.301315  2295300.0  member  \n",
       "3  168.831024  3346400.0  member  \n",
       "4  164.498520  5863400.0  member  "
      ]
     },
     "execution_count": 83,
     "metadata": {},
     "output_type": "execute_result"
    }
   ],
   "source": [
    "# Read the stage dataset of student C\n",
    "df = pd.read_csv(\"../Tran_Dao_Data/Tran_Dao_StudC_stock_data_stage.csv\")\n",
    "df.head()"
   ]
  },
  {
   "cell_type": "code",
   "execution_count": 84,
   "metadata": {},
   "outputs": [
    {
     "data": {
      "text/plain": [
       "996"
      ]
     },
     "execution_count": 84,
     "metadata": {},
     "output_type": "execute_result"
    }
   ],
   "source": [
    "len(df.Ticker.unique())"
   ]
  },
  {
   "cell_type": "code",
   "execution_count": 85,
   "metadata": {},
   "outputs": [
    {
     "data": {
      "text/html": [
       "<div>\n",
       "<style scoped>\n",
       "    .dataframe tbody tr th:only-of-type {\n",
       "        vertical-align: middle;\n",
       "    }\n",
       "\n",
       "    .dataframe tbody tr th {\n",
       "        vertical-align: top;\n",
       "    }\n",
       "\n",
       "    .dataframe thead th {\n",
       "        text-align: right;\n",
       "    }\n",
       "</style>\n",
       "<table border=\"1\" class=\"dataframe\">\n",
       "  <thead>\n",
       "    <tr style=\"text-align: right;\">\n",
       "      <th></th>\n",
       "      <th>Symbol</th>\n",
       "      <th>Security</th>\n",
       "      <th>Sector</th>\n",
       "      <th>Sub-Industry</th>\n",
       "    </tr>\n",
       "  </thead>\n",
       "  <tbody>\n",
       "    <tr>\n",
       "      <th>0</th>\n",
       "      <td>MMM</td>\n",
       "      <td>3M</td>\n",
       "      <td>Industrials</td>\n",
       "      <td>Industrial Conglomerates</td>\n",
       "    </tr>\n",
       "    <tr>\n",
       "      <th>1</th>\n",
       "      <td>ABT</td>\n",
       "      <td>Abbott Laboratories</td>\n",
       "      <td>Health Care</td>\n",
       "      <td>Health Care Equipment</td>\n",
       "    </tr>\n",
       "    <tr>\n",
       "      <th>2</th>\n",
       "      <td>ABBV</td>\n",
       "      <td>AbbVie</td>\n",
       "      <td>Health Care</td>\n",
       "      <td>Pharmaceuticals</td>\n",
       "    </tr>\n",
       "    <tr>\n",
       "      <th>3</th>\n",
       "      <td>ABMD</td>\n",
       "      <td>Abiomed</td>\n",
       "      <td>Health Care</td>\n",
       "      <td>Health Care Equipment</td>\n",
       "    </tr>\n",
       "    <tr>\n",
       "      <th>4</th>\n",
       "      <td>ACN</td>\n",
       "      <td>Accenture</td>\n",
       "      <td>Information Technology</td>\n",
       "      <td>IT Consulting &amp; Other Services</td>\n",
       "    </tr>\n",
       "  </tbody>\n",
       "</table>\n",
       "</div>"
      ],
      "text/plain": [
       "  Symbol             Security                  Sector  \\\n",
       "0    MMM                   3M             Industrials   \n",
       "1    ABT  Abbott Laboratories             Health Care   \n",
       "2   ABBV               AbbVie             Health Care   \n",
       "3   ABMD              Abiomed             Health Care   \n",
       "4    ACN            Accenture  Information Technology   \n",
       "\n",
       "                     Sub-Industry  \n",
       "0        Industrial Conglomerates  \n",
       "1           Health Care Equipment  \n",
       "2                 Pharmaceuticals  \n",
       "3           Health Care Equipment  \n",
       "4  IT Consulting & Other Services  "
      ]
     },
     "execution_count": 85,
     "metadata": {},
     "output_type": "execute_result"
    }
   ],
   "source": [
    "# Read the dataset about sectors provided by student A\n",
    "sp500_sector=pd.read_csv(\"../Tran_Dao_Data/Biber_Martin_StudentA_tickers_sp500_stage.csv\")\n",
    "sp500_sector.head()"
   ]
  },
  {
   "cell_type": "code",
   "execution_count": 86,
   "metadata": {},
   "outputs": [],
   "source": [
    "# Rename 'Symbol' column into 'Ticker'\n",
    "sp500_sector.rename(columns = {\"Symbol\":\"Ticker\"}, inplace = True)"
   ]
  },
  {
   "cell_type": "code",
   "execution_count": 87,
   "metadata": {},
   "outputs": [
    {
     "data": {
      "text/plain": [
       "505"
      ]
     },
     "execution_count": 87,
     "metadata": {},
     "output_type": "execute_result"
    }
   ],
   "source": [
    "len(sp500_sector.Ticker.unique())"
   ]
  },
  {
   "cell_type": "code",
   "execution_count": 88,
   "metadata": {},
   "outputs": [
    {
     "data": {
      "text/html": [
       "<div>\n",
       "<style scoped>\n",
       "    .dataframe tbody tr th:only-of-type {\n",
       "        vertical-align: middle;\n",
       "    }\n",
       "\n",
       "    .dataframe tbody tr th {\n",
       "        vertical-align: top;\n",
       "    }\n",
       "\n",
       "    .dataframe thead th {\n",
       "        text-align: right;\n",
       "    }\n",
       "</style>\n",
       "<table border=\"1\" class=\"dataframe\">\n",
       "  <thead>\n",
       "    <tr style=\"text-align: right;\">\n",
       "      <th></th>\n",
       "      <th>Symbol</th>\n",
       "      <th>Security</th>\n",
       "      <th>sector</th>\n",
       "      <th>industry</th>\n",
       "      <th>Sub-Industry</th>\n",
       "      <th>homepage</th>\n",
       "      <th>ESGtotal</th>\n",
       "      <th>ENVRisk</th>\n",
       "      <th>SocialRisk</th>\n",
       "      <th>GovRisk</th>\n",
       "    </tr>\n",
       "  </thead>\n",
       "  <tbody>\n",
       "    <tr>\n",
       "      <th>0</th>\n",
       "      <td>MMM</td>\n",
       "      <td>3M</td>\n",
       "      <td>Industrials</td>\n",
       "      <td>Conglomerates</td>\n",
       "      <td>Industrial Conglomerates</td>\n",
       "      <td>http://www.3m.com</td>\n",
       "      <td>35.0</td>\n",
       "      <td>13.2</td>\n",
       "      <td>13.2</td>\n",
       "      <td>13.2</td>\n",
       "    </tr>\n",
       "    <tr>\n",
       "      <th>1</th>\n",
       "      <td>ABT</td>\n",
       "      <td>Abbott Laboratories</td>\n",
       "      <td>Healthcare</td>\n",
       "      <td>Medical Devices</td>\n",
       "      <td>Health Care Equipment</td>\n",
       "      <td>http://www.abbott.com</td>\n",
       "      <td>26.0</td>\n",
       "      <td>3.0</td>\n",
       "      <td>3.0</td>\n",
       "      <td>3.0</td>\n",
       "    </tr>\n",
       "    <tr>\n",
       "      <th>2</th>\n",
       "      <td>ABBV</td>\n",
       "      <td>AbbVie</td>\n",
       "      <td>Healthcare</td>\n",
       "      <td>Drug Manufacturers—General</td>\n",
       "      <td>Pharmaceuticals</td>\n",
       "      <td>http://www.abbvie.com</td>\n",
       "      <td>27.0</td>\n",
       "      <td>0.6</td>\n",
       "      <td>0.6</td>\n",
       "      <td>0.6</td>\n",
       "    </tr>\n",
       "    <tr>\n",
       "      <th>3</th>\n",
       "      <td>ABMD</td>\n",
       "      <td>Abiomed</td>\n",
       "      <td>Healthcare</td>\n",
       "      <td>Medical Devices</td>\n",
       "      <td>Health Care Equipment</td>\n",
       "      <td>http://www.abiomed.com</td>\n",
       "      <td>NaN</td>\n",
       "      <td>NaN</td>\n",
       "      <td>NaN</td>\n",
       "      <td>NaN</td>\n",
       "    </tr>\n",
       "    <tr>\n",
       "      <th>4</th>\n",
       "      <td>ACN</td>\n",
       "      <td>Accenture</td>\n",
       "      <td>Technology</td>\n",
       "      <td>Information Technology Services</td>\n",
       "      <td>IT Consulting &amp; Other Services</td>\n",
       "      <td>http://www.accenture.com</td>\n",
       "      <td>11.0</td>\n",
       "      <td>0.6</td>\n",
       "      <td>0.6</td>\n",
       "      <td>0.6</td>\n",
       "    </tr>\n",
       "  </tbody>\n",
       "</table>\n",
       "</div>"
      ],
      "text/plain": [
       "  Symbol             Security       sector                         industry  \\\n",
       "0    MMM                   3M  Industrials                    Conglomerates   \n",
       "1    ABT  Abbott Laboratories   Healthcare                  Medical Devices   \n",
       "2   ABBV               AbbVie   Healthcare       Drug Manufacturers—General   \n",
       "3   ABMD              Abiomed   Healthcare                  Medical Devices   \n",
       "4    ACN            Accenture   Technology  Information Technology Services   \n",
       "\n",
       "                     Sub-Industry                  homepage  ESGtotal  \\\n",
       "0        Industrial Conglomerates         http://www.3m.com      35.0   \n",
       "1           Health Care Equipment     http://www.abbott.com      26.0   \n",
       "2                 Pharmaceuticals     http://www.abbvie.com      27.0   \n",
       "3           Health Care Equipment    http://www.abiomed.com       NaN   \n",
       "4  IT Consulting & Other Services  http://www.accenture.com      11.0   \n",
       "\n",
       "   ENVRisk  SocialRisk  GovRisk  \n",
       "0     13.2        13.2     13.2  \n",
       "1      3.0         3.0      3.0  \n",
       "2      0.6         0.6      0.6  \n",
       "3      NaN         NaN      NaN  \n",
       "4      0.6         0.6      0.6  "
      ]
     },
     "execution_count": 88,
     "metadata": {},
     "output_type": "execute_result"
    }
   ],
   "source": [
    "# Read the dataset that contains ESG scores provided by student A\n",
    "sp500_esg=pd.read_csv(\"../Tran_Dao_Data/Biber_Martin_StudentA_sp500_ESG_stage.csv\")\n",
    "sp500_esg.head()"
   ]
  },
  {
   "cell_type": "code",
   "execution_count": 89,
   "metadata": {},
   "outputs": [],
   "source": [
    "# Rename the column \"Symbol\"\n",
    "sp500_esg.rename(columns = {\"Symbol\":\"Ticker\"}, inplace = True)"
   ]
  },
  {
   "cell_type": "code",
   "execution_count": 90,
   "metadata": {},
   "outputs": [
    {
     "data": {
      "text/plain": [
       "505"
      ]
     },
     "execution_count": 90,
     "metadata": {},
     "output_type": "execute_result"
    }
   ],
   "source": [
    "len(sp500_esg.Ticker.unique())"
   ]
  },
  {
   "cell_type": "markdown",
   "metadata": {},
   "source": [
    "Merge the 3 dataframes \"df\", \"sp500_sector\",\"sp500_esg\" together by using the column 'Ticker' as a key:"
   ]
  },
  {
   "cell_type": "code",
   "execution_count": 91,
   "metadata": {},
   "outputs": [
    {
     "data": {
      "text/html": [
       "<div>\n",
       "<style scoped>\n",
       "    .dataframe tbody tr th:only-of-type {\n",
       "        vertical-align: middle;\n",
       "    }\n",
       "\n",
       "    .dataframe tbody tr th {\n",
       "        vertical-align: top;\n",
       "    }\n",
       "\n",
       "    .dataframe thead th {\n",
       "        text-align: right;\n",
       "    }\n",
       "</style>\n",
       "<table border=\"1\" class=\"dataframe\">\n",
       "  <thead>\n",
       "    <tr style=\"text-align: right;\">\n",
       "      <th></th>\n",
       "      <th>Ticker</th>\n",
       "      <th>Date</th>\n",
       "      <th>Open</th>\n",
       "      <th>High</th>\n",
       "      <th>Low</th>\n",
       "      <th>Close</th>\n",
       "      <th>Adj Close</th>\n",
       "      <th>Volume</th>\n",
       "      <th>S&amp;P 500</th>\n",
       "      <th>Security</th>\n",
       "      <th>Sector</th>\n",
       "      <th>Sub-Industry</th>\n",
       "    </tr>\n",
       "  </thead>\n",
       "  <tbody>\n",
       "    <tr>\n",
       "      <th>0</th>\n",
       "      <td>MMM</td>\n",
       "      <td>2020-12-31</td>\n",
       "      <td>174.119995</td>\n",
       "      <td>174.869995</td>\n",
       "      <td>173.179993</td>\n",
       "      <td>174.789993</td>\n",
       "      <td>169.412537</td>\n",
       "      <td>1841300.0</td>\n",
       "      <td>member</td>\n",
       "      <td>3M</td>\n",
       "      <td>Industrials</td>\n",
       "      <td>Industrial Conglomerates</td>\n",
       "    </tr>\n",
       "    <tr>\n",
       "      <th>1</th>\n",
       "      <td>MMM</td>\n",
       "      <td>2021-01-04</td>\n",
       "      <td>175.000000</td>\n",
       "      <td>176.199997</td>\n",
       "      <td>170.550003</td>\n",
       "      <td>171.869995</td>\n",
       "      <td>166.582382</td>\n",
       "      <td>2996200.0</td>\n",
       "      <td>member</td>\n",
       "      <td>3M</td>\n",
       "      <td>Industrials</td>\n",
       "      <td>Industrial Conglomerates</td>\n",
       "    </tr>\n",
       "    <tr>\n",
       "      <th>2</th>\n",
       "      <td>MMM</td>\n",
       "      <td>2021-01-05</td>\n",
       "      <td>172.009995</td>\n",
       "      <td>173.250000</td>\n",
       "      <td>170.649994</td>\n",
       "      <td>171.580002</td>\n",
       "      <td>166.301315</td>\n",
       "      <td>2295300.0</td>\n",
       "      <td>member</td>\n",
       "      <td>3M</td>\n",
       "      <td>Industrials</td>\n",
       "      <td>Industrial Conglomerates</td>\n",
       "    </tr>\n",
       "    <tr>\n",
       "      <th>3</th>\n",
       "      <td>MMM</td>\n",
       "      <td>2021-01-06</td>\n",
       "      <td>172.720001</td>\n",
       "      <td>175.570007</td>\n",
       "      <td>172.039993</td>\n",
       "      <td>174.190002</td>\n",
       "      <td>168.831024</td>\n",
       "      <td>3346400.0</td>\n",
       "      <td>member</td>\n",
       "      <td>3M</td>\n",
       "      <td>Industrials</td>\n",
       "      <td>Industrial Conglomerates</td>\n",
       "    </tr>\n",
       "    <tr>\n",
       "      <th>4</th>\n",
       "      <td>MMM</td>\n",
       "      <td>2021-01-07</td>\n",
       "      <td>171.559998</td>\n",
       "      <td>173.460007</td>\n",
       "      <td>166.160004</td>\n",
       "      <td>169.720001</td>\n",
       "      <td>164.498520</td>\n",
       "      <td>5863400.0</td>\n",
       "      <td>member</td>\n",
       "      <td>3M</td>\n",
       "      <td>Industrials</td>\n",
       "      <td>Industrial Conglomerates</td>\n",
       "    </tr>\n",
       "    <tr>\n",
       "      <th>...</th>\n",
       "      <td>...</td>\n",
       "      <td>...</td>\n",
       "      <td>...</td>\n",
       "      <td>...</td>\n",
       "      <td>...</td>\n",
       "      <td>...</td>\n",
       "      <td>...</td>\n",
       "      <td>...</td>\n",
       "      <td>...</td>\n",
       "      <td>...</td>\n",
       "      <td>...</td>\n",
       "      <td>...</td>\n",
       "    </tr>\n",
       "    <tr>\n",
       "      <th>205417</th>\n",
       "      <td>MMM</td>\n",
       "      <td>2021-04-12</td>\n",
       "      <td>198.199997</td>\n",
       "      <td>199.289993</td>\n",
       "      <td>197.059998</td>\n",
       "      <td>197.830002</td>\n",
       "      <td>193.323791</td>\n",
       "      <td>1682100.0</td>\n",
       "      <td>member</td>\n",
       "      <td>3M</td>\n",
       "      <td>Industrials</td>\n",
       "      <td>Industrial Conglomerates</td>\n",
       "    </tr>\n",
       "    <tr>\n",
       "      <th>205418</th>\n",
       "      <td>MMM</td>\n",
       "      <td>2021-04-13</td>\n",
       "      <td>196.009995</td>\n",
       "      <td>197.330002</td>\n",
       "      <td>195.369995</td>\n",
       "      <td>196.470001</td>\n",
       "      <td>191.994766</td>\n",
       "      <td>2259700.0</td>\n",
       "      <td>member</td>\n",
       "      <td>3M</td>\n",
       "      <td>Industrials</td>\n",
       "      <td>Industrial Conglomerates</td>\n",
       "    </tr>\n",
       "    <tr>\n",
       "      <th>205419</th>\n",
       "      <td>MMM</td>\n",
       "      <td>2021-04-30</td>\n",
       "      <td>197.660004</td>\n",
       "      <td>198.990005</td>\n",
       "      <td>196.130005</td>\n",
       "      <td>197.139999</td>\n",
       "      <td>192.649506</td>\n",
       "      <td>2507100.0</td>\n",
       "      <td>member</td>\n",
       "      <td>3M</td>\n",
       "      <td>Industrials</td>\n",
       "      <td>Industrial Conglomerates</td>\n",
       "    </tr>\n",
       "    <tr>\n",
       "      <th>205420</th>\n",
       "      <td>MMM</td>\n",
       "      <td>2021-08-12</td>\n",
       "      <td>201.479996</td>\n",
       "      <td>202.369995</td>\n",
       "      <td>200.360001</td>\n",
       "      <td>201.429993</td>\n",
       "      <td>198.290299</td>\n",
       "      <td>1231800.0</td>\n",
       "      <td>member</td>\n",
       "      <td>3M</td>\n",
       "      <td>Industrials</td>\n",
       "      <td>Industrial Conglomerates</td>\n",
       "    </tr>\n",
       "    <tr>\n",
       "      <th>205421</th>\n",
       "      <td>MMM</td>\n",
       "      <td>2021-09-24</td>\n",
       "      <td>181.500000</td>\n",
       "      <td>182.070007</td>\n",
       "      <td>180.619995</td>\n",
       "      <td>181.039993</td>\n",
       "      <td>179.578552</td>\n",
       "      <td>2076900.0</td>\n",
       "      <td>member</td>\n",
       "      <td>3M</td>\n",
       "      <td>Industrials</td>\n",
       "      <td>Industrial Conglomerates</td>\n",
       "    </tr>\n",
       "  </tbody>\n",
       "</table>\n",
       "<p>205422 rows × 12 columns</p>\n",
       "</div>"
      ],
      "text/plain": [
       "       Ticker        Date        Open        High         Low       Close  \\\n",
       "0         MMM  2020-12-31  174.119995  174.869995  173.179993  174.789993   \n",
       "1         MMM  2021-01-04  175.000000  176.199997  170.550003  171.869995   \n",
       "2         MMM  2021-01-05  172.009995  173.250000  170.649994  171.580002   \n",
       "3         MMM  2021-01-06  172.720001  175.570007  172.039993  174.190002   \n",
       "4         MMM  2021-01-07  171.559998  173.460007  166.160004  169.720001   \n",
       "...       ...         ...         ...         ...         ...         ...   \n",
       "205417    MMM  2021-04-12  198.199997  199.289993  197.059998  197.830002   \n",
       "205418    MMM  2021-04-13  196.009995  197.330002  195.369995  196.470001   \n",
       "205419    MMM  2021-04-30  197.660004  198.990005  196.130005  197.139999   \n",
       "205420    MMM  2021-08-12  201.479996  202.369995  200.360001  201.429993   \n",
       "205421    MMM  2021-09-24  181.500000  182.070007  180.619995  181.039993   \n",
       "\n",
       "         Adj Close     Volume S&P 500 Security       Sector  \\\n",
       "0       169.412537  1841300.0  member       3M  Industrials   \n",
       "1       166.582382  2996200.0  member       3M  Industrials   \n",
       "2       166.301315  2295300.0  member       3M  Industrials   \n",
       "3       168.831024  3346400.0  member       3M  Industrials   \n",
       "4       164.498520  5863400.0  member       3M  Industrials   \n",
       "...            ...        ...     ...      ...          ...   \n",
       "205417  193.323791  1682100.0  member       3M  Industrials   \n",
       "205418  191.994766  2259700.0  member       3M  Industrials   \n",
       "205419  192.649506  2507100.0  member       3M  Industrials   \n",
       "205420  198.290299  1231800.0  member       3M  Industrials   \n",
       "205421  179.578552  2076900.0  member       3M  Industrials   \n",
       "\n",
       "                    Sub-Industry  \n",
       "0       Industrial Conglomerates  \n",
       "1       Industrial Conglomerates  \n",
       "2       Industrial Conglomerates  \n",
       "3       Industrial Conglomerates  \n",
       "4       Industrial Conglomerates  \n",
       "...                          ...  \n",
       "205417  Industrial Conglomerates  \n",
       "205418  Industrial Conglomerates  \n",
       "205419  Industrial Conglomerates  \n",
       "205420  Industrial Conglomerates  \n",
       "205421  Industrial Conglomerates  \n",
       "\n",
       "[205422 rows x 12 columns]"
      ]
     },
     "metadata": {},
     "output_type": "display_data"
    }
   ],
   "source": [
    "mergedf1=df.merge(sp500_sector, how='left')\n",
    "display(mergedf1)"
   ]
  },
  {
   "cell_type": "code",
   "execution_count": 92,
   "metadata": {
    "scrolled": true
   },
   "outputs": [
    {
     "data": {
      "text/html": [
       "<div>\n",
       "<style scoped>\n",
       "    .dataframe tbody tr th:only-of-type {\n",
       "        vertical-align: middle;\n",
       "    }\n",
       "\n",
       "    .dataframe tbody tr th {\n",
       "        vertical-align: top;\n",
       "    }\n",
       "\n",
       "    .dataframe thead th {\n",
       "        text-align: right;\n",
       "    }\n",
       "</style>\n",
       "<table border=\"1\" class=\"dataframe\">\n",
       "  <thead>\n",
       "    <tr style=\"text-align: right;\">\n",
       "      <th></th>\n",
       "      <th>Ticker</th>\n",
       "      <th>Date</th>\n",
       "      <th>Open</th>\n",
       "      <th>High</th>\n",
       "      <th>Low</th>\n",
       "      <th>Close</th>\n",
       "      <th>Adj Close</th>\n",
       "      <th>Volume</th>\n",
       "      <th>S&amp;P 500</th>\n",
       "      <th>Security</th>\n",
       "      <th>Sector</th>\n",
       "      <th>Sub-Industry</th>\n",
       "      <th>sector</th>\n",
       "      <th>industry</th>\n",
       "      <th>homepage</th>\n",
       "      <th>ESGtotal</th>\n",
       "      <th>ENVRisk</th>\n",
       "      <th>SocialRisk</th>\n",
       "      <th>GovRisk</th>\n",
       "    </tr>\n",
       "  </thead>\n",
       "  <tbody>\n",
       "    <tr>\n",
       "      <th>0</th>\n",
       "      <td>MMM</td>\n",
       "      <td>2020-12-31</td>\n",
       "      <td>174.119995</td>\n",
       "      <td>174.869995</td>\n",
       "      <td>173.179993</td>\n",
       "      <td>174.789993</td>\n",
       "      <td>169.412537</td>\n",
       "      <td>1841300.0</td>\n",
       "      <td>member</td>\n",
       "      <td>3M</td>\n",
       "      <td>Industrials</td>\n",
       "      <td>Industrial Conglomerates</td>\n",
       "      <td>Industrials</td>\n",
       "      <td>Conglomerates</td>\n",
       "      <td>http://www.3m.com</td>\n",
       "      <td>35.0</td>\n",
       "      <td>13.2</td>\n",
       "      <td>13.2</td>\n",
       "      <td>13.2</td>\n",
       "    </tr>\n",
       "    <tr>\n",
       "      <th>1</th>\n",
       "      <td>MMM</td>\n",
       "      <td>2021-01-04</td>\n",
       "      <td>175.000000</td>\n",
       "      <td>176.199997</td>\n",
       "      <td>170.550003</td>\n",
       "      <td>171.869995</td>\n",
       "      <td>166.582382</td>\n",
       "      <td>2996200.0</td>\n",
       "      <td>member</td>\n",
       "      <td>3M</td>\n",
       "      <td>Industrials</td>\n",
       "      <td>Industrial Conglomerates</td>\n",
       "      <td>Industrials</td>\n",
       "      <td>Conglomerates</td>\n",
       "      <td>http://www.3m.com</td>\n",
       "      <td>35.0</td>\n",
       "      <td>13.2</td>\n",
       "      <td>13.2</td>\n",
       "      <td>13.2</td>\n",
       "    </tr>\n",
       "    <tr>\n",
       "      <th>2</th>\n",
       "      <td>MMM</td>\n",
       "      <td>2021-01-05</td>\n",
       "      <td>172.009995</td>\n",
       "      <td>173.250000</td>\n",
       "      <td>170.649994</td>\n",
       "      <td>171.580002</td>\n",
       "      <td>166.301315</td>\n",
       "      <td>2295300.0</td>\n",
       "      <td>member</td>\n",
       "      <td>3M</td>\n",
       "      <td>Industrials</td>\n",
       "      <td>Industrial Conglomerates</td>\n",
       "      <td>Industrials</td>\n",
       "      <td>Conglomerates</td>\n",
       "      <td>http://www.3m.com</td>\n",
       "      <td>35.0</td>\n",
       "      <td>13.2</td>\n",
       "      <td>13.2</td>\n",
       "      <td>13.2</td>\n",
       "    </tr>\n",
       "    <tr>\n",
       "      <th>3</th>\n",
       "      <td>MMM</td>\n",
       "      <td>2021-01-06</td>\n",
       "      <td>172.720001</td>\n",
       "      <td>175.570007</td>\n",
       "      <td>172.039993</td>\n",
       "      <td>174.190002</td>\n",
       "      <td>168.831024</td>\n",
       "      <td>3346400.0</td>\n",
       "      <td>member</td>\n",
       "      <td>3M</td>\n",
       "      <td>Industrials</td>\n",
       "      <td>Industrial Conglomerates</td>\n",
       "      <td>Industrials</td>\n",
       "      <td>Conglomerates</td>\n",
       "      <td>http://www.3m.com</td>\n",
       "      <td>35.0</td>\n",
       "      <td>13.2</td>\n",
       "      <td>13.2</td>\n",
       "      <td>13.2</td>\n",
       "    </tr>\n",
       "    <tr>\n",
       "      <th>4</th>\n",
       "      <td>MMM</td>\n",
       "      <td>2021-01-07</td>\n",
       "      <td>171.559998</td>\n",
       "      <td>173.460007</td>\n",
       "      <td>166.160004</td>\n",
       "      <td>169.720001</td>\n",
       "      <td>164.498520</td>\n",
       "      <td>5863400.0</td>\n",
       "      <td>member</td>\n",
       "      <td>3M</td>\n",
       "      <td>Industrials</td>\n",
       "      <td>Industrial Conglomerates</td>\n",
       "      <td>Industrials</td>\n",
       "      <td>Conglomerates</td>\n",
       "      <td>http://www.3m.com</td>\n",
       "      <td>35.0</td>\n",
       "      <td>13.2</td>\n",
       "      <td>13.2</td>\n",
       "      <td>13.2</td>\n",
       "    </tr>\n",
       "    <tr>\n",
       "      <th>...</th>\n",
       "      <td>...</td>\n",
       "      <td>...</td>\n",
       "      <td>...</td>\n",
       "      <td>...</td>\n",
       "      <td>...</td>\n",
       "      <td>...</td>\n",
       "      <td>...</td>\n",
       "      <td>...</td>\n",
       "      <td>...</td>\n",
       "      <td>...</td>\n",
       "      <td>...</td>\n",
       "      <td>...</td>\n",
       "      <td>...</td>\n",
       "      <td>...</td>\n",
       "      <td>...</td>\n",
       "      <td>...</td>\n",
       "      <td>...</td>\n",
       "      <td>...</td>\n",
       "      <td>...</td>\n",
       "    </tr>\n",
       "    <tr>\n",
       "      <th>205417</th>\n",
       "      <td>MMM</td>\n",
       "      <td>2021-04-12</td>\n",
       "      <td>198.199997</td>\n",
       "      <td>199.289993</td>\n",
       "      <td>197.059998</td>\n",
       "      <td>197.830002</td>\n",
       "      <td>193.323791</td>\n",
       "      <td>1682100.0</td>\n",
       "      <td>member</td>\n",
       "      <td>3M</td>\n",
       "      <td>Industrials</td>\n",
       "      <td>Industrial Conglomerates</td>\n",
       "      <td>Industrials</td>\n",
       "      <td>Conglomerates</td>\n",
       "      <td>http://www.3m.com</td>\n",
       "      <td>35.0</td>\n",
       "      <td>13.2</td>\n",
       "      <td>13.2</td>\n",
       "      <td>13.2</td>\n",
       "    </tr>\n",
       "    <tr>\n",
       "      <th>205418</th>\n",
       "      <td>MMM</td>\n",
       "      <td>2021-04-13</td>\n",
       "      <td>196.009995</td>\n",
       "      <td>197.330002</td>\n",
       "      <td>195.369995</td>\n",
       "      <td>196.470001</td>\n",
       "      <td>191.994766</td>\n",
       "      <td>2259700.0</td>\n",
       "      <td>member</td>\n",
       "      <td>3M</td>\n",
       "      <td>Industrials</td>\n",
       "      <td>Industrial Conglomerates</td>\n",
       "      <td>Industrials</td>\n",
       "      <td>Conglomerates</td>\n",
       "      <td>http://www.3m.com</td>\n",
       "      <td>35.0</td>\n",
       "      <td>13.2</td>\n",
       "      <td>13.2</td>\n",
       "      <td>13.2</td>\n",
       "    </tr>\n",
       "    <tr>\n",
       "      <th>205419</th>\n",
       "      <td>MMM</td>\n",
       "      <td>2021-04-30</td>\n",
       "      <td>197.660004</td>\n",
       "      <td>198.990005</td>\n",
       "      <td>196.130005</td>\n",
       "      <td>197.139999</td>\n",
       "      <td>192.649506</td>\n",
       "      <td>2507100.0</td>\n",
       "      <td>member</td>\n",
       "      <td>3M</td>\n",
       "      <td>Industrials</td>\n",
       "      <td>Industrial Conglomerates</td>\n",
       "      <td>Industrials</td>\n",
       "      <td>Conglomerates</td>\n",
       "      <td>http://www.3m.com</td>\n",
       "      <td>35.0</td>\n",
       "      <td>13.2</td>\n",
       "      <td>13.2</td>\n",
       "      <td>13.2</td>\n",
       "    </tr>\n",
       "    <tr>\n",
       "      <th>205420</th>\n",
       "      <td>MMM</td>\n",
       "      <td>2021-08-12</td>\n",
       "      <td>201.479996</td>\n",
       "      <td>202.369995</td>\n",
       "      <td>200.360001</td>\n",
       "      <td>201.429993</td>\n",
       "      <td>198.290299</td>\n",
       "      <td>1231800.0</td>\n",
       "      <td>member</td>\n",
       "      <td>3M</td>\n",
       "      <td>Industrials</td>\n",
       "      <td>Industrial Conglomerates</td>\n",
       "      <td>Industrials</td>\n",
       "      <td>Conglomerates</td>\n",
       "      <td>http://www.3m.com</td>\n",
       "      <td>35.0</td>\n",
       "      <td>13.2</td>\n",
       "      <td>13.2</td>\n",
       "      <td>13.2</td>\n",
       "    </tr>\n",
       "    <tr>\n",
       "      <th>205421</th>\n",
       "      <td>MMM</td>\n",
       "      <td>2021-09-24</td>\n",
       "      <td>181.500000</td>\n",
       "      <td>182.070007</td>\n",
       "      <td>180.619995</td>\n",
       "      <td>181.039993</td>\n",
       "      <td>179.578552</td>\n",
       "      <td>2076900.0</td>\n",
       "      <td>member</td>\n",
       "      <td>3M</td>\n",
       "      <td>Industrials</td>\n",
       "      <td>Industrial Conglomerates</td>\n",
       "      <td>Industrials</td>\n",
       "      <td>Conglomerates</td>\n",
       "      <td>http://www.3m.com</td>\n",
       "      <td>35.0</td>\n",
       "      <td>13.2</td>\n",
       "      <td>13.2</td>\n",
       "      <td>13.2</td>\n",
       "    </tr>\n",
       "  </tbody>\n",
       "</table>\n",
       "<p>205422 rows × 19 columns</p>\n",
       "</div>"
      ],
      "text/plain": [
       "       Ticker        Date        Open        High         Low       Close  \\\n",
       "0         MMM  2020-12-31  174.119995  174.869995  173.179993  174.789993   \n",
       "1         MMM  2021-01-04  175.000000  176.199997  170.550003  171.869995   \n",
       "2         MMM  2021-01-05  172.009995  173.250000  170.649994  171.580002   \n",
       "3         MMM  2021-01-06  172.720001  175.570007  172.039993  174.190002   \n",
       "4         MMM  2021-01-07  171.559998  173.460007  166.160004  169.720001   \n",
       "...       ...         ...         ...         ...         ...         ...   \n",
       "205417    MMM  2021-04-12  198.199997  199.289993  197.059998  197.830002   \n",
       "205418    MMM  2021-04-13  196.009995  197.330002  195.369995  196.470001   \n",
       "205419    MMM  2021-04-30  197.660004  198.990005  196.130005  197.139999   \n",
       "205420    MMM  2021-08-12  201.479996  202.369995  200.360001  201.429993   \n",
       "205421    MMM  2021-09-24  181.500000  182.070007  180.619995  181.039993   \n",
       "\n",
       "         Adj Close     Volume S&P 500 Security       Sector  \\\n",
       "0       169.412537  1841300.0  member       3M  Industrials   \n",
       "1       166.582382  2996200.0  member       3M  Industrials   \n",
       "2       166.301315  2295300.0  member       3M  Industrials   \n",
       "3       168.831024  3346400.0  member       3M  Industrials   \n",
       "4       164.498520  5863400.0  member       3M  Industrials   \n",
       "...            ...        ...     ...      ...          ...   \n",
       "205417  193.323791  1682100.0  member       3M  Industrials   \n",
       "205418  191.994766  2259700.0  member       3M  Industrials   \n",
       "205419  192.649506  2507100.0  member       3M  Industrials   \n",
       "205420  198.290299  1231800.0  member       3M  Industrials   \n",
       "205421  179.578552  2076900.0  member       3M  Industrials   \n",
       "\n",
       "                    Sub-Industry       sector       industry  \\\n",
       "0       Industrial Conglomerates  Industrials  Conglomerates   \n",
       "1       Industrial Conglomerates  Industrials  Conglomerates   \n",
       "2       Industrial Conglomerates  Industrials  Conglomerates   \n",
       "3       Industrial Conglomerates  Industrials  Conglomerates   \n",
       "4       Industrial Conglomerates  Industrials  Conglomerates   \n",
       "...                          ...          ...            ...   \n",
       "205417  Industrial Conglomerates  Industrials  Conglomerates   \n",
       "205418  Industrial Conglomerates  Industrials  Conglomerates   \n",
       "205419  Industrial Conglomerates  Industrials  Conglomerates   \n",
       "205420  Industrial Conglomerates  Industrials  Conglomerates   \n",
       "205421  Industrial Conglomerates  Industrials  Conglomerates   \n",
       "\n",
       "                 homepage  ESGtotal  ENVRisk  SocialRisk  GovRisk  \n",
       "0       http://www.3m.com      35.0     13.2        13.2     13.2  \n",
       "1       http://www.3m.com      35.0     13.2        13.2     13.2  \n",
       "2       http://www.3m.com      35.0     13.2        13.2     13.2  \n",
       "3       http://www.3m.com      35.0     13.2        13.2     13.2  \n",
       "4       http://www.3m.com      35.0     13.2        13.2     13.2  \n",
       "...                   ...       ...      ...         ...      ...  \n",
       "205417  http://www.3m.com      35.0     13.2        13.2     13.2  \n",
       "205418  http://www.3m.com      35.0     13.2        13.2     13.2  \n",
       "205419  http://www.3m.com      35.0     13.2        13.2     13.2  \n",
       "205420  http://www.3m.com      35.0     13.2        13.2     13.2  \n",
       "205421  http://www.3m.com      35.0     13.2        13.2     13.2  \n",
       "\n",
       "[205422 rows x 19 columns]"
      ]
     },
     "metadata": {},
     "output_type": "display_data"
    }
   ],
   "source": [
    "mergedf2=mergedf1.merge(sp500_esg, how='left')\n",
    "display(mergedf2)"
   ]
  },
  {
   "cell_type": "markdown",
   "metadata": {},
   "source": [
    "The result of the merge is a new dataframe called \"mergedf2\" that combines the information from the three inputs. "
   ]
  },
  {
   "cell_type": "code",
   "execution_count": 93,
   "metadata": {},
   "outputs": [
    {
     "data": {
      "text/plain": [
       "(205422, 19)"
      ]
     },
     "execution_count": 93,
     "metadata": {},
     "output_type": "execute_result"
    }
   ],
   "source": [
    "mergedf2.shape"
   ]
  },
  {
   "cell_type": "code",
   "execution_count": 94,
   "metadata": {},
   "outputs": [
    {
     "data": {
      "text/plain": [
       "Index(['Ticker', 'Date', 'Open', 'High', 'Low', 'Close', 'Adj Close', 'Volume',\n",
       "       'S&P 500', 'Security', 'Sector', 'Sub-Industry', 'sector', 'industry',\n",
       "       'homepage', 'ESGtotal', 'ENVRisk', 'SocialRisk', 'GovRisk'],\n",
       "      dtype='object')"
      ]
     },
     "execution_count": 94,
     "metadata": {},
     "output_type": "execute_result"
    }
   ],
   "source": [
    "mergedf2.columns"
   ]
  },
  {
   "cell_type": "code",
   "execution_count": 95,
   "metadata": {},
   "outputs": [],
   "source": [
    "# Rename several columns\n",
    "\n",
    "mergedf2.rename(columns = {\"ESGtotal\":\"ESG Score\", \"industry\":\"Industry\", \"homepage\":\"Homepage\"},inplace = True)"
   ]
  },
  {
   "cell_type": "code",
   "execution_count": 96,
   "metadata": {},
   "outputs": [
    {
     "data": {
      "text/plain": [
       "Index(['Ticker', 'Date', 'Open', 'High', 'Low', 'Close', 'Adj Close', 'Volume',\n",
       "       'S&P 500', 'Security', 'Sector', 'Sub-Industry', 'sector', 'Industry',\n",
       "       'Homepage', 'ESG Score', 'ENVRisk', 'SocialRisk', 'GovRisk'],\n",
       "      dtype='object')"
      ]
     },
     "execution_count": 96,
     "metadata": {},
     "output_type": "execute_result"
    }
   ],
   "source": [
    "mergedf2.columns"
   ]
  },
  {
   "cell_type": "code",
   "execution_count": 97,
   "metadata": {},
   "outputs": [
    {
     "data": {
      "text/plain": [
       "array(['Industrials', 'Health Care', 'Information Technology',\n",
       "       'Communication Services', 'Consumer Discretionary', 'Utilities',\n",
       "       'Financials', 'Materials', 'Real Estate', 'Consumer Staples',\n",
       "       'Energy', nan], dtype=object)"
      ]
     },
     "execution_count": 97,
     "metadata": {},
     "output_type": "execute_result"
    }
   ],
   "source": [
    "mergedf2.Sector.unique()"
   ]
  },
  {
   "cell_type": "code",
   "execution_count": 98,
   "metadata": {},
   "outputs": [
    {
     "data": {
      "text/plain": [
       "array(['Industrials', 'Healthcare', 'Technology',\n",
       "       'Communication Services', 'Consumer Cyclical', 'Utilities',\n",
       "       'Financial Services', 'Basic Materials', 'Real Estate',\n",
       "       'Consumer Defensive', 'Energy', nan], dtype=object)"
      ]
     },
     "execution_count": 98,
     "metadata": {},
     "output_type": "execute_result"
    }
   ],
   "source": [
    "mergedf2.sector.unique()"
   ]
  },
  {
   "cell_type": "code",
   "execution_count": 99,
   "metadata": {},
   "outputs": [],
   "source": [
    "del mergedf2['sector']"
   ]
  },
  {
   "cell_type": "code",
   "execution_count": 100,
   "metadata": {},
   "outputs": [
    {
     "data": {
      "text/plain": [
       "996"
      ]
     },
     "execution_count": 100,
     "metadata": {},
     "output_type": "execute_result"
    }
   ],
   "source": [
    "len(mergedf2.Ticker.unique())"
   ]
  },
  {
   "cell_type": "code",
   "execution_count": 101,
   "metadata": {},
   "outputs": [
    {
     "data": {
      "text/plain": [
       "member                106462\n",
       "non-member             98749\n",
       "SPDR S&P 500 Trust       211\n",
       "Name: S&P 500, dtype: int64"
      ]
     },
     "execution_count": 101,
     "metadata": {},
     "output_type": "execute_result"
    }
   ],
   "source": [
    "mergedf2['S&P 500'].value_counts()"
   ]
  },
  {
   "cell_type": "code",
   "execution_count": 102,
   "metadata": {
    "scrolled": true
   },
   "outputs": [
    {
     "data": {
      "text/plain": [
       "Ticker               0\n",
       "Date                 0\n",
       "Open                 0\n",
       "High                 0\n",
       "Low                  0\n",
       "Close                0\n",
       "Adj Close            0\n",
       "Volume               0\n",
       "S&P 500              0\n",
       "Security         98960\n",
       "Sector           98960\n",
       "Sub-Industry     98960\n",
       "Industry         98960\n",
       "Homepage         98960\n",
       "ESG Score       110472\n",
       "ENVRisk         110472\n",
       "SocialRisk      110472\n",
       "GovRisk         110472\n",
       "dtype: int64"
      ]
     },
     "execution_count": 102,
     "metadata": {},
     "output_type": "execute_result"
    }
   ],
   "source": [
    "# Checking missing values\n",
    "mergedf2.isna().sum()\n",
    "\n",
    "# Non-members of S&P 500 have no values of ESG Score or other indexes."
   ]
  },
  {
   "cell_type": "code",
   "execution_count": 103,
   "metadata": {},
   "outputs": [],
   "source": [
    "# Write the combined data as a csv:\n",
    "\n",
    "mergedf2.to_csv(\"../Tran_Dao_Data/Tran_Dao_StudC_combined_stock_data_stage.csv\",index = False)"
   ]
  },
  {
   "cell_type": "code",
   "execution_count": 104,
   "metadata": {
    "scrolled": true
   },
   "outputs": [
    {
     "name": "stdout",
     "output_type": "stream",
     "text": [
      "<class 'pandas.core.frame.DataFrame'>\n",
      "Int64Index: 205422 entries, 0 to 205421\n",
      "Data columns (total 18 columns):\n",
      " #   Column        Non-Null Count   Dtype  \n",
      "---  ------        --------------   -----  \n",
      " 0   Ticker        205422 non-null  object \n",
      " 1   Date          205422 non-null  object \n",
      " 2   Open          205422 non-null  float64\n",
      " 3   High          205422 non-null  float64\n",
      " 4   Low           205422 non-null  float64\n",
      " 5   Close         205422 non-null  float64\n",
      " 6   Adj Close     205422 non-null  float64\n",
      " 7   Volume        205422 non-null  float64\n",
      " 8   S&P 500       205422 non-null  object \n",
      " 9   Security      106462 non-null  object \n",
      " 10  Sector        106462 non-null  object \n",
      " 11  Sub-Industry  106462 non-null  object \n",
      " 12  Industry      106462 non-null  object \n",
      " 13  Homepage      106462 non-null  object \n",
      " 14  ESG Score     94950 non-null   float64\n",
      " 15  ENVRisk       94950 non-null   float64\n",
      " 16  SocialRisk    94950 non-null   float64\n",
      " 17  GovRisk       94950 non-null   float64\n",
      "dtypes: float64(10), object(8)\n",
      "memory usage: 29.8+ MB\n"
     ]
    }
   ],
   "source": [
    "mergedf2.info()"
   ]
  }
 ],
 "metadata": {
  "kernelspec": {
   "display_name": "Python 3",
   "language": "python",
   "name": "python3"
  },
  "language_info": {
   "codemirror_mode": {
    "name": "ipython",
    "version": 3
   },
   "file_extension": ".py",
   "mimetype": "text/x-python",
   "name": "python",
   "nbconvert_exporter": "python",
   "pygments_lexer": "ipython3",
   "version": "3.8.5"
  }
 },
 "nbformat": 4,
 "nbformat_minor": 4
}
