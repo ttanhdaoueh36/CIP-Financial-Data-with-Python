{
 "cells": [
  {
   "cell_type": "markdown",
   "id": "adb90788",
   "metadata": {},
   "source": [
    "### 1. Create a database"
   ]
  },
  {
   "cell_type": "markdown",
   "id": "40e3d868",
   "metadata": {},
   "source": [
    "Using PyMySQL as an interface for connecting to a MySQL database server from Python."
   ]
  },
  {
   "cell_type": "code",
   "execution_count": null,
   "id": "b57a60f4",
   "metadata": {},
   "outputs": [],
   "source": [
    "# Import packages\n",
    "import pymysql\n",
    "import pymysql.cursors"
   ]
  },
  {
   "cell_type": "code",
   "execution_count": null,
   "id": "7609f192",
   "metadata": {},
   "outputs": [],
   "source": [
    "# Create a connection object\n",
    "\n",
    "databaseServerIP = \"localhost\"  # IP address of the MySQL database server\n",
    "\n",
    "databaseUserName = \"admin\"      # User name of the database server\n",
    "\n",
    "databaseUserPassword = \"1240\"   # Password for the database user\n",
    "\n",
    "newDatabaseName = \"CIP\" # Name of the database that is to be created\n",
    "\n",
    "charSet = \"utf8mb4\"     # Character set\n",
    "\n",
    "cusrorType = pymysql.cursors.DictCursor\n",
    "\n",
    "\n",
    "\n",
    "connection = pymysql.connect(host=databaseServerIP, \n",
    "                               user=databaseUserName, \n",
    "                               password=databaseUserPassword,\n",
    "                               charset=charSet,\n",
    "                               cursorclass=cusrorType)"
   ]
  },
  {
   "cell_type": "code",
   "execution_count": null,
   "id": "42fac237",
   "metadata": {},
   "outputs": [],
   "source": [
    "# Test connection\n",
    "connection"
   ]
  },
  {
   "cell_type": "code",
   "execution_count": null,
   "id": "52812852",
   "metadata": {},
   "outputs": [],
   "source": [
    "try:\n",
    "\n",
    "    # Create a cursor object\n",
    "\n",
    "    cursor = connection.cursor()                                    \n",
    "\n",
    "    # SQL Statement to create a database\n",
    "\n",
    "    sqlStatement = \"CREATE DATABASE \"+newDatabaseName  \n",
    "\n",
    "    # Execute the create database SQL statment through the cursor instance\n",
    "\n",
    "    cursor.execute(sqlStatement)\n",
    "\n",
    "    # SQL query string\n",
    "\n",
    "    sqlQuery = \"SHOW DATABASES\"\n",
    "\n",
    "    # Execute the sqlQuery\n",
    "\n",
    "    cursor.execute(sqlQuery)\n",
    "\n",
    "    #Fetch all the rows\n",
    "\n",
    "    databaseList = cursor.fetchall()\n",
    "\n",
    "    for datatbase in databaseList:\n",
    "\n",
    "        print(datatbase)\n",
    "        \n",
    "except Exception as e:\n",
    "\n",
    "    print(\"Exeception occured:{}\".format(e))\n",
    "    \n",
    "finally:\n",
    "    print(\"Successfully created a new database named :\",newDatabaseName)\n",
    "    connection.close()"
   ]
  }
 ],
 "metadata": {
  "kernelspec": {
   "display_name": "Python 3 (ipykernel)",
   "language": "python",
   "name": "python3"
  },
  "language_info": {
   "codemirror_mode": {
    "name": "ipython",
    "version": 3
   },
   "file_extension": ".py",
   "mimetype": "text/x-python",
   "name": "python",
   "nbconvert_exporter": "python",
   "pygments_lexer": "ipython3",
   "version": "3.9.12"
  },
  "toc": {
   "base_numbering": 1,
   "nav_menu": {},
   "number_sections": true,
   "sideBar": true,
   "skip_h1_title": false,
   "title_cell": "Table of Contents",
   "title_sidebar": "Contents",
   "toc_cell": false,
   "toc_position": {},
   "toc_section_display": true,
   "toc_window_display": false
  }
 },
 "nbformat": 4,
 "nbformat_minor": 5
}
